{
 "cells": [
  {
   "cell_type": "markdown",
   "id": "1658636f",
   "metadata": {},
   "source": [
    "### Reading an image"
   ]
  },
  {
   "cell_type": "code",
   "execution_count": 1,
   "id": "b861f490",
   "metadata": {},
   "outputs": [
    {
     "name": "stdout",
     "output_type": "stream",
     "text": [
      "480 771 3\n"
     ]
    }
   ],
   "source": [
    "import cv2\n",
    "img = cv2.imread(\"/home/dell/Downloads/tree-736885__480.jpg\", 1)\n",
    "h, w, c = img.shape\n",
    "print(h,w,c)"
   ]
  },
  {
   "cell_type": "markdown",
   "id": "4bf45d0c",
   "metadata": {},
   "source": [
    "### Displaying an image"
   ]
  },
  {
   "cell_type": "code",
   "execution_count": null,
   "id": "9c29b644",
   "metadata": {},
   "outputs": [],
   "source": [
    "cv2.imshow(\"Image Window\", img)\n",
    "\n",
    "cv2.waitKey(0) #Duration of window , avoids crashing\n",
    "\n",
    "cv2.destroyAllWindows()"
   ]
  },
  {
   "cell_type": "markdown",
   "id": "b642f174",
   "metadata": {},
   "source": [
    "### Writing an Image"
   ]
  },
  {
   "cell_type": "code",
   "execution_count": null,
   "id": "b1a440dc",
   "metadata": {},
   "outputs": [],
   "source": [
    "cv2.imwrite(\"savedimg.jpg\", img)"
   ]
  },
  {
   "cell_type": "markdown",
   "id": "bba1ec46",
   "metadata": {},
   "source": [
    "### Extracting the RGB values of a pixel"
   ]
  },
  {
   "cell_type": "code",
   "execution_count": null,
   "id": "a0341840",
   "metadata": {},
   "outputs": [],
   "source": [
    "# opencv reads the image in bgr format by default\n",
    "b, g, r = img[225,225]\n",
    "print(b,g,r)\n",
    "B = img[225, 770, 2]\n",
    "print(B)"
   ]
  },
  {
   "cell_type": "markdown",
   "id": "1fa56c92",
   "metadata": {},
   "source": [
    "### Extracting the Region of Interest (ROI)"
   ]
  },
  {
   "cell_type": "code",
   "execution_count": null,
   "id": "6c3b0366",
   "metadata": {},
   "outputs": [],
   "source": [
    "roi = img[110:150, 260:500]"
   ]
  },
  {
   "cell_type": "markdown",
   "id": "c2fcf956",
   "metadata": {},
   "source": [
    "### Resizing the Image"
   ]
  },
  {
   "cell_type": "code",
   "execution_count": null,
   "id": "15b13397",
   "metadata": {},
   "outputs": [],
   "source": [
    "# without aspect ratio\n",
    "resize_img = cv2.resize(img, (300,300))\n",
    "print(resize_img.shape)\n",
    "\n",
    "# with aspect ratio\n",
    "ratio = h/w\n",
    "dim = (int(w*ratio), int(h*ratio)) #(w,h)\n",
    "print(dim)\n",
    "resize_img = cv2.resize(img, dim)\n",
    "print(resize_img.shape)\n",
    "\n",
    "cv2.imshow(\"Image\", resize_img)\n",
    "\n",
    "cv2.waitKey(0)\n",
    "\n",
    "cv2.destroyAllWindows()"
   ]
  },
  {
   "cell_type": "markdown",
   "id": "143dbd88",
   "metadata": {},
   "source": [
    "### Rotating the Image"
   ]
  },
  {
   "cell_type": "code",
   "execution_count": null,
   "id": "fb1e6895",
   "metadata": {},
   "outputs": [],
   "source": [
    "centre = (w//2, h//2)\n",
    "\n",
    "matrix = cv2.getRotationMatrix2D(centre, 45, 1.0) #(centre, angle, scale)\n",
    "#alpha = scale * cos(angle)\n",
    "#beta = scale * sine(angle)\n",
    "#gives 2*3 rotation matrix containing alpha and beta values\n",
    "rotated_img = cv2.warpAffine(img, matrix, (w,h)) #(org_img, rotated_matrix, dim)->calculates the new x,y coordinates\n",
    "\n",
    "cv2.imshow(\"Image\", rotated_img)\n",
    "cv2.waitKey(0)\n",
    "cv2.destroyAllWindows()"
   ]
  },
  {
   "cell_type": "markdown",
   "id": "a963c6e7",
   "metadata": {},
   "source": [
    "### Drawing a rectangle and displaying text"
   ]
  },
  {
   "cell_type": "code",
   "execution_count": null,
   "id": "5cd10d67",
   "metadata": {},
   "outputs": [],
   "source": [
    "img_copy = img.copy()\n",
    "\n",
    "rectangle = cv2.rectangle(img_copy, (240,220), (530,330), (150,200,280), 1) #(org_img, top-left, bottom-right, color(RGB format), thickness)\n",
    "\n",
    "linetext = cv2.putText(img_copy, \"Object Detected\", (240,220), cv2.FONT_HERSHEY_SIMPLEX, 1, (255, 0, 0), 1) #(org_img, text, starting_point, font_type, font_size, font_color(RGB format), thickness)\n",
    "cv2.imshow(\"Image\", rectangle)\n",
    "cv2.waitKey(0)\n",
    "cv2.destroyAllWindows()"
   ]
  },
  {
   "cell_type": "markdown",
   "id": "bdceaf39",
   "metadata": {},
   "source": [
    "### Drawing a line and arrowed line"
   ]
  },
  {
   "cell_type": "code",
   "execution_count": null,
   "id": "767f4e2c",
   "metadata": {},
   "outputs": [],
   "source": [
    "line = cv2.line(img, (100, 200), (450,650), (255,255,255), 2) #(org_img, start, end, color(RGB), thickness)\n",
    "\n",
    "arrowed_line = cv2.arrowedLine(img, (100, 50), (500,400), (150,220,187), 3)\n",
    "\n",
    "cv2.imshow(\"line\", line)\n",
    "cv2.waitKey(0)\n",
    "\n",
    "cv2.imshow(\"arrowed line\", arrowed_line)\n",
    "cv2.waitKey(0)\n",
    "\n",
    "cv2.destroyAllWindows()"
   ]
  },
  {
   "cell_type": "markdown",
   "id": "6f40f47f",
   "metadata": {},
   "source": [
    "### Drawing circle"
   ]
  },
  {
   "cell_type": "code",
   "execution_count": null,
   "id": "2bca078d",
   "metadata": {},
   "outputs": [],
   "source": [
    "circle = cv2.circle(img, (w//2,h//2), 100, (150,180, 210), -1)\n",
    "\n",
    "cv2.imshow(\"circle\",circle)\n",
    "cv2.waitKey(0)\n",
    "cv2.destroyAllWindows()"
   ]
  },
  {
   "cell_type": "markdown",
   "id": "53bd478d",
   "metadata": {},
   "source": [
    "###  Visualizing the different color channels of an RGB image. "
   ]
  },
  {
   "cell_type": "code",
   "execution_count": null,
   "id": "9c0ef26b",
   "metadata": {},
   "outputs": [],
   "source": [
    "B, G, R = cv2.split(img) # Splits the image into corresponding channels\n",
    "\n",
    "cv2.imshow('original', img)\n",
    "cv2.waitKey(0)\n",
    "\n",
    "cv2.imshow(\"Blue\", B)\n",
    "cv2.waitKey(0)\n",
    "\n",
    "cv2.imshow(\"Green\", G)\n",
    "cv2.waitKey(0)\n",
    "\n",
    "cv2.imshow(\"Red\", R)\n",
    "cv2.waitKey(0)\n",
    "\n",
    "cv2.destroyAllWindows()"
   ]
  }
 ],
 "metadata": {
  "kernelspec": {
   "display_name": "Python 3 (ipykernel)",
   "language": "python",
   "name": "python3"
  },
  "language_info": {
   "codemirror_mode": {
    "name": "ipython",
    "version": 3
   },
   "file_extension": ".py",
   "mimetype": "text/x-python",
   "name": "python",
   "nbconvert_exporter": "python",
   "pygments_lexer": "ipython3",
   "version": "3.10.9"
  }
 },
 "nbformat": 4,
 "nbformat_minor": 5
}
