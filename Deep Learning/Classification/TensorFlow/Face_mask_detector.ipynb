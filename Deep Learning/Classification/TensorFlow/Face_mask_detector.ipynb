{
 "cells": [
  {
   "cell_type": "code",
   "execution_count": 1,
   "metadata": {
    "colab": {
     "base_uri": "https://localhost:8080/",
     "height": 121
    },
    "colab_type": "code",
    "id": "ZADdo_5tCQ3T",
    "outputId": "8473b491-0dfc-4570-a948-ebd1d4a00cf3"
   },
   "outputs": [
    {
     "name": "stdout",
     "output_type": "stream",
     "text": [
      "Go to this URL in a browser: https://accounts.google.com/o/oauth2/auth?client_id=947318989803-6bn6qk8qdgf4n4g3pfee6491hc0brc4i.apps.googleusercontent.com&redirect_uri=urn%3aietf%3awg%3aoauth%3a2.0%3aoob&scope=email%20https%3a%2f%2fwww.googleapis.com%2fauth%2fdocs.test%20https%3a%2f%2fwww.googleapis.com%2fauth%2fdrive%20https%3a%2f%2fwww.googleapis.com%2fauth%2fdrive.photos.readonly%20https%3a%2f%2fwww.googleapis.com%2fauth%2fpeopleapi.readonly&response_type=code\n",
      "\n",
      "Enter your authorization code:\n",
      "··········\n",
      "Mounted at /content/gdrive\n"
     ]
    }
   ],
   "source": [
    "#mounting google drive to colab\n",
    "from google.colab import drive\n",
    "drive.mount('/content/gdrive')"
   ]
  },
  {
   "cell_type": "code",
   "execution_count": 2,
   "metadata": {
    "colab": {},
    "colab_type": "code",
    "id": "QE6kLf9vCuO4"
   },
   "outputs": [],
   "source": [
    "#importing libraries\n",
    "import keras\n",
    "from keras.models import Sequential\n",
    "from keras.layers import Dense\n",
    "from keras.layers import Dropout\n",
    "from keras.layers import Conv2D\n",
    "from keras.layers import MaxPooling2D\n",
    "from keras.layers import Flatten"
   ]
  },
  {
   "cell_type": "code",
   "execution_count": 3,
   "metadata": {
    "colab": {},
    "colab_type": "code",
    "id": "7gf71f9UCu7w"
   },
   "outputs": [],
   "source": [
    "model = Sequential()"
   ]
  },
  {
   "cell_type": "code",
   "execution_count": 4,
   "metadata": {
    "colab": {},
    "colab_type": "code",
    "id": "byQDjYJsCvP6"
   },
   "outputs": [],
   "source": [
    "#Adding convolutional layers\n",
    "model.add(Conv2D(32, (3, 3), input_shape=(64,64,3), activation='relu'))\n",
    "model.add(Conv2D(16, (3,3), activation=\"relu\"))"
   ]
  },
  {
   "cell_type": "code",
   "execution_count": 5,
   "metadata": {
    "colab": {},
    "colab_type": "code",
    "id": "pHUKThCWTi3x"
   },
   "outputs": [],
   "source": [
    "#Max Pooling the feature maps\n",
    "model.add(MaxPooling2D(pool_size=(2,2,)))\n",
    "model.add(MaxPooling2D(pool_size=(2,2,)))"
   ]
  },
  {
   "cell_type": "code",
   "execution_count": 6,
   "metadata": {
    "colab": {},
    "colab_type": "code",
    "id": "uPG4omsUTqoL"
   },
   "outputs": [],
   "source": [
    "#Flattenning the max pooled layers to input layers\n",
    "model.add(Flatten())"
   ]
  },
  {
   "cell_type": "code",
   "execution_count": 7,
   "metadata": {
    "colab": {},
    "colab_type": "code",
    "id": "VJbG-NRPT1S3"
   },
   "outputs": [],
   "source": [
    "#Adding Hidden Layers\n",
    "model.add(Dense(units=128, activation=\"relu\"))\n",
    "model.add(Dropout(rate=0.1))"
   ]
  },
  {
   "cell_type": "code",
   "execution_count": 8,
   "metadata": {
    "colab": {},
    "colab_type": "code",
    "id": "nIUxaGvFT1m3"
   },
   "outputs": [],
   "source": [
    "#Adding Output Layers\n",
    "model.add(Dense(units=1, activation='sigmoid'))"
   ]
  },
  {
   "cell_type": "code",
   "execution_count": 9,
   "metadata": {
    "colab": {},
    "colab_type": "code",
    "id": "WocYpuOcCvq_"
   },
   "outputs": [],
   "source": [
    "#Compiling the model\n",
    "model.compile(optimizer=\"adam\", loss=\"binary_crossentropy\", metrics=[\"accuracy\"])"
   ]
  },
  {
   "cell_type": "code",
   "execution_count": 10,
   "metadata": {
    "colab": {
     "base_uri": "https://localhost:8080/",
     "height": 420
    },
    "colab_type": "code",
    "id": "xOu52rHZCwEN",
    "outputId": "a4568c6e-05e3-4b1f-ca5e-e61d90a63076"
   },
   "outputs": [
    {
     "name": "stdout",
     "output_type": "stream",
     "text": [
      "Model: \"sequential\"\n",
      "_________________________________________________________________\n",
      "Layer (type)                 Output Shape              Param #   \n",
      "=================================================================\n",
      "conv2d (Conv2D)              (None, 62, 62, 32)        896       \n",
      "_________________________________________________________________\n",
      "conv2d_1 (Conv2D)            (None, 60, 60, 16)        4624      \n",
      "_________________________________________________________________\n",
      "max_pooling2d (MaxPooling2D) (None, 30, 30, 16)        0         \n",
      "_________________________________________________________________\n",
      "max_pooling2d_1 (MaxPooling2 (None, 15, 15, 16)        0         \n",
      "_________________________________________________________________\n",
      "flatten (Flatten)            (None, 3600)              0         \n",
      "_________________________________________________________________\n",
      "dense (Dense)                (None, 128)               460928    \n",
      "_________________________________________________________________\n",
      "dropout (Dropout)            (None, 128)               0         \n",
      "_________________________________________________________________\n",
      "dense_1 (Dense)              (None, 1)                 129       \n",
      "=================================================================\n",
      "Total params: 466,577\n",
      "Trainable params: 466,577\n",
      "Non-trainable params: 0\n",
      "_________________________________________________________________\n"
     ]
    }
   ],
   "source": [
    "model.summary()"
   ]
  },
  {
   "cell_type": "code",
   "execution_count": 11,
   "metadata": {
    "colab": {},
    "colab_type": "code",
    "id": "NrXTdsakCwh7"
   },
   "outputs": [],
   "source": [
    "from keras.preprocessing.image import ImageDataGenerator"
   ]
  },
  {
   "cell_type": "code",
   "execution_count": 12,
   "metadata": {
    "colab": {},
    "colab_type": "code",
    "id": "TI6jjafdEwUu"
   },
   "outputs": [],
   "source": [
    "train_data = ImageDataGenerator(rescale=1./255, shear_range=0.2, zoom_range=0.2, horizontal_flip=True)\n",
    "test_data = ImageDataGenerator(rescale=1./255)"
   ]
  },
  {
   "cell_type": "code",
   "execution_count": 13,
   "metadata": {
    "colab": {
     "base_uri": "https://localhost:8080/",
     "height": 50
    },
    "colab_type": "code",
    "id": "kbOhe-lWEw2j",
    "outputId": "622afe12-a29f-4cf3-d1af-84a34f771547"
   },
   "outputs": [
    {
     "name": "stdout",
     "output_type": "stream",
     "text": [
      "Found 2648 images belonging to 2 classes.\n",
      "Found 2648 images belonging to 2 classes.\n"
     ]
    }
   ],
   "source": [
    "#Importing the training and testing dataset\n",
    "train_set = train_data.flow_from_directory('/content/gdrive/My Drive/Artificial Intelligence/Notes/9. Minor Project/Mask-Detection-using-CNN-master.zip (Unzipped Files)/Mask-Detection-using-CNN-master/dataset', \n",
    "                                           target_size=(64,64), batch_size=32, class_mode='binary')\n",
    "test_set = test_data.flow_from_directory('/content/gdrive/My Drive/Artificial Intelligence/Notes/9. Minor Project/Mask-Detection-using-CNN-master.zip (Unzipped Files)/Mask-Detection-using-CNN-master/dataset', \n",
    "                                         target_size=(64,64), batch_size=32, class_mode='binary')"
   ]
  },
  {
   "cell_type": "code",
   "execution_count": 14,
   "metadata": {
    "colab": {
     "base_uri": "https://localhost:8080/",
     "height": 171
    },
    "colab_type": "code",
    "id": "eTOdC8JOExqZ",
    "outputId": "ef2b2aed-aa9c-46d3-f56c-8da733237c15"
   },
   "outputs": [
    {
     "name": "stdout",
     "output_type": "stream",
     "text": [
      "WARNING:tensorflow:From <ipython-input-14-cba1d9997c89>:5: Model.fit_generator (from tensorflow.python.keras.engine.training) is deprecated and will be removed in a future version.\n",
      "Instructions for updating:\n",
      "Please use Model.fit, which supports generators.\n",
      "Epoch 1/5\n",
      "  83/5000 [..............................] - ETA: 11:17:13 - loss: 0.2617 - accuracy: 0.8909WARNING:tensorflow:Your input ran out of data; interrupting training. Make sure that your dataset or generator can generate at least `steps_per_epoch * epochs` batches (in this case, 25000 batches). You may need to use the repeat() function when building your dataset.\n",
      "WARNING:tensorflow:Your input ran out of data; interrupting training. Make sure that your dataset or generator can generate at least `steps_per_epoch * epochs` batches (in this case, 2000 batches). You may need to use the repeat() function when building your dataset.\n",
      "  83/5000 [..............................] - 701s 8s/step - loss: 0.2617 - accuracy: 0.8909 - val_loss: 0.0924 - val_accuracy: 0.9630\n"
     ]
    },
    {
     "data": {
      "text/plain": [
       "<tensorflow.python.keras.callbacks.History at 0x7fe594377860>"
      ]
     },
     "execution_count": 14,
     "metadata": {
      "tags": []
     },
     "output_type": "execute_result"
    }
   ],
   "source": [
    "#Training the model\n",
    "model.fit_generator(train_set,\n",
    "                         steps_per_epoch = 5000,\n",
    "                         epochs = 5,\n",
    "                         validation_data = test_set,\n",
    "                         validation_steps = 2000)"
   ]
  },
  {
   "cell_type": "code",
   "execution_count": 15,
   "metadata": {
    "colab": {
     "base_uri": "https://localhost:8080/",
     "height": 121
    },
    "colab_type": "code",
    "id": "4IgPyLXQdl75",
    "outputId": "add2d28e-1a64-4f53-df4a-4ddf46793ed0"
   },
   "outputs": [
    {
     "name": "stdout",
     "output_type": "stream",
     "text": [
      "WARNING:tensorflow:From <ipython-input-15-6f5f1c941a7f>:2: Model.evaluate_generator (from tensorflow.python.keras.engine.training) is deprecated and will be removed in a future version.\n",
      "Instructions for updating:\n",
      "Please use Model.evaluate, which supports generators.\n",
      "WARNING:tensorflow:Your input ran out of data; interrupting training. Make sure that your dataset or generator can generate at least `steps_per_epoch * epochs` batches (in this case, 624 batches). You may need to use the repeat() function when building your dataset.\n",
      "The testing accuracy is: 96.2990939617157 %\n"
     ]
    }
   ],
   "source": [
    "#Checking the accuracy of the model\n",
    "accuracy = model.evaluate_generator(test_set, steps=624)\n",
    "print('The testing accuracy is:',accuracy[1]*100,'%')"
   ]
  },
  {
   "cell_type": "code",
   "execution_count": 17,
   "metadata": {
    "colab": {
     "base_uri": "https://localhost:8080/",
     "height": 34
    },
    "colab_type": "code",
    "id": "TQuazjXpUcSq",
    "outputId": "f82484bb-3a79-4e3f-f607-9cd5f3987899"
   },
   "outputs": [
    {
     "name": "stdout",
     "output_type": "stream",
     "text": [
      "With Mask\n"
     ]
    }
   ],
   "source": [
    "#Trying to predict the output\n",
    "import numpy as np\n",
    "from keras.preprocessing import image\n",
    "tested_image = image.load_img('/content/gdrive/My Drive/Images/1-with-mask.jpg',target_size=(64,64))\n",
    "tested_image = image.img_to_array(tested_image)\n",
    "tested_image = np.expand_dims(tested_image,axis = 0)\n",
    "output = model.predict(tested_image)\n",
    "train_set.class_indices\n",
    "if output[0][0] ==1:\n",
    "  prediction = 'Without Mask'\n",
    "  print(prediction )\n",
    "else:\n",
    "  prediction = 'With Mask'\n",
    "  print(prediction )"
   ]
  },
  {
   "cell_type": "code",
   "execution_count": 19,
   "metadata": {
    "colab": {
     "base_uri": "https://localhost:8080/",
     "height": 34
    },
    "colab_type": "code",
    "id": "53_IH0iGUcrk",
    "outputId": "4490d18f-8b4c-4dcd-cb28-ea7ecb7fa589"
   },
   "outputs": [
    {
     "name": "stdout",
     "output_type": "stream",
     "text": [
      "Without Mask\n"
     ]
    }
   ],
   "source": [
    "import numpy as np\n",
    "from keras.preprocessing import image\n",
    "tested_image = image.load_img('/content/gdrive/My Drive/Images/1(1).jpg',target_size=(64,64))\n",
    "tested_image = image.img_to_array(tested_image)\n",
    "tested_image = np.expand_dims(tested_image,axis = 0)\n",
    "output = model.predict(tested_image)\n",
    "train_set.class_indices\n",
    "if output[0][0] ==1:\n",
    "  prediction = 'Without Mask'\n",
    "  print(prediction )\n",
    "else:\n",
    "  prediction = 'With Mask'\n",
    "  print(prediction )"
   ]
  },
  {
   "cell_type": "code",
   "execution_count": 20,
   "metadata": {
    "colab": {
     "base_uri": "https://localhost:8080/",
     "height": 34
    },
    "colab_type": "code",
    "id": "YDDlj0aZWJOI",
    "outputId": "531fce4a-6a52-4c83-b500-93b26c4499e3"
   },
   "outputs": [
    {
     "name": "stdout",
     "output_type": "stream",
     "text": [
      "Without Mask\n"
     ]
    }
   ],
   "source": [
    "import numpy as np\n",
    "from keras.preprocessing import image\n",
    "tested_image = image.load_img('/content/gdrive/My Drive/Images/0(1).jpg',target_size=(64,64))\n",
    "tested_image = image.img_to_array(tested_image)\n",
    "tested_image = np.expand_dims(tested_image,axis = 0)\n",
    "output = model.predict(tested_image)\n",
    "train_set.class_indices\n",
    "if output[0][0] ==1:\n",
    "  prediction = 'Without Mask'\n",
    "  print(prediction )\n",
    "else:\n",
    "  prediction = 'With Mask'\n",
    "  print(prediction )"
   ]
  },
  {
   "cell_type": "code",
   "execution_count": 21,
   "metadata": {
    "colab": {
     "base_uri": "https://localhost:8080/",
     "height": 34
    },
    "colab_type": "code",
    "id": "8XkaDl8WWM-K",
    "outputId": "742875b3-b921-4f5f-b177-5856ae172254"
   },
   "outputs": [
    {
     "name": "stdout",
     "output_type": "stream",
     "text": [
      "With Mask\n"
     ]
    }
   ],
   "source": [
    "import numpy as np\n",
    "from keras.preprocessing import image\n",
    "tested_image = image.load_img('/content/gdrive/My Drive/Images/0-with-mask(1).jpg',target_size=(64,64))\n",
    "tested_image = image.img_to_array(tested_image)\n",
    "tested_image = np.expand_dims(tested_image,axis = 0)\n",
    "output = model.predict(tested_image)\n",
    "train_set.class_indices\n",
    "if output[0][0] ==1:\n",
    "  prediction = 'Without Mask'\n",
    "  print(prediction )\n",
    "else:\n",
    "  prediction = 'With Mask'\n",
    "  print(prediction )"
   ]
  },
  {
   "cell_type": "code",
   "execution_count": 22,
   "metadata": {
    "colab": {
     "base_uri": "https://localhost:8080/",
     "height": 34
    },
    "colab_type": "code",
    "id": "SgQrPD5xWO-H",
    "outputId": "8c2ad486-6f97-4eb0-c02a-8c8a340cbd3e"
   },
   "outputs": [
    {
     "name": "stdout",
     "output_type": "stream",
     "text": [
      "With Mask\n"
     ]
    }
   ],
   "source": [
    "import numpy as np\n",
    "from keras.preprocessing import image\n",
    "tested_image = image.load_img('/content/gdrive/My Drive/Images/4-with-mask.jpg',target_size=(64,64))\n",
    "tested_image = image.img_to_array(tested_image)\n",
    "tested_image = np.expand_dims(tested_image,axis = 0)\n",
    "output = model.predict(tested_image)\n",
    "train_set.class_indices\n",
    "if output[0][0] ==1:\n",
    "  prediction = 'Without Mask'\n",
    "  print(prediction )\n",
    "else:\n",
    "  prediction = 'With Mask'\n",
    "  print(prediction )"
   ]
  },
  {
   "cell_type": "code",
   "execution_count": 23,
   "metadata": {
    "colab": {},
    "colab_type": "code",
    "id": "otbyKC0-XNHG"
   },
   "outputs": [],
   "source": [
    "predict_image = model.predict(test_set) > 0.5"
   ]
  },
  {
   "cell_type": "code",
   "execution_count": 24,
   "metadata": {
    "colab": {
     "base_uri": "https://localhost:8080/",
     "height": 134
    },
    "colab_type": "code",
    "id": "2N63jFTLXeVS",
    "outputId": "33315d91-0430-40de-d412-cbd410881fdd"
   },
   "outputs": [
    {
     "data": {
      "text/plain": [
       "array([[ True],\n",
       "       [False],\n",
       "       [ True],\n",
       "       ...,\n",
       "       [ True],\n",
       "       [False],\n",
       "       [False]])"
      ]
     },
     "execution_count": 24,
     "metadata": {
      "tags": []
     },
     "output_type": "execute_result"
    }
   ],
   "source": [
    "predict_image"
   ]
  },
  {
   "cell_type": "code",
   "execution_count": null,
   "metadata": {
    "colab": {},
    "colab_type": "code",
    "id": "OTWgL8QkYdqN"
   },
   "outputs": [],
   "source": [
    "#All the predictions were correct...100% accurate"
   ]
  }
 ],
 "metadata": {
  "colab": {
   "collapsed_sections": [],
   "name": "Face_mask_detector.ipynb",
   "provenance": []
  },
  "kernelspec": {
   "display_name": "Python 3 (ipykernel)",
   "language": "python",
   "name": "python3"
  },
  "language_info": {
   "codemirror_mode": {
    "name": "ipython",
    "version": 3
   },
   "file_extension": ".py",
   "mimetype": "text/x-python",
   "name": "python",
   "nbconvert_exporter": "python",
   "pygments_lexer": "ipython3",
   "version": "3.10.9"
  }
 },
 "nbformat": 4,
 "nbformat_minor": 1
}
