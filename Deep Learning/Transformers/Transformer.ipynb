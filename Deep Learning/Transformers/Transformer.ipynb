{
 "cells": [
  {
   "cell_type": "markdown",
   "metadata": {
    "id": "m9JJ7FBw84tG"
   },
   "source": [
    "# Attention is all you need: Discovering the Transformer model\n",
    "\n",
    "# Neural machine traslation using a Transformer model\n",
    "\n",
    "In this notebook we will describe and demystify the relevant artifacts in the paper \"Attention is all you need\" (Vaswani, Ashish & Shazeer, Noam & Parmar, Niki & Uszkoreit, Jakob & Jones, Llion & Gomez, Aidan & Kaiser, Lukasz & Polosukhin, Illia. (2017)). This paper was a more advanced step in the use of the attention mechanism being the main basis for a model called Transformer. The most famous current models that are emerging in NLP tasks consist of dozens of transformers or some of their variants, for example, GPT-3 or BERT.\n",
    "\n",
    "Attention is all you need: https://arxiv.org/pdf/1706.03762.pdf\n",
    "\n",
    "We will describe the components of this model, analyze their operation and build a simple model that we will apply to a small-scale NMT problem (Neural Machine Translation). To read more about the problem that we will address and to know how the basic attention mechanism works, I recommend you to read my previous  post [ \"A Guide on the Encoder-Decoder Model and the Attention Mechanism\"](https://medium.com/better-programming/a-guide-on-the-encoder-decoder-model-and-the-attention-mechanism-401c836e2cdb) and check the [ repository](https://github.com/edumunozsala/NMT-encoder-decoder-Attention)."
   ]
  },
  {
   "cell_type": "markdown",
   "metadata": {
    "id": "822Yvg8KVyR9"
   },
   "source": [
    "![Alt](images/transformer.jpg \"title Picture by Vinson Tan from Pixabay\")\n",
    "\n",
    "## Why we need Transformer?\n",
    "\n",
    "In sequence-to-sequence treatment problems such as the neural machine translation, the initial proposals were based on the use of RNNs in an encoder-decoder architecture. These architectures presented a great limitation when working with long sequences, their ability to retain information from the first elements was lost when new elements were incorporated into the sequence. In the encoder, the hidden state in every step is associated with a certain word in the input sentence, the more recent. Therefore, if the decoder only accesses the last hidden state of the decoder, it will lose relevant information about the first elements of the sequence. Then to deal with this limitation, a new concept were introduced **the attention mechanism**.\n",
    "\n",
    "Instead of paying attention to the last state of the encoder as is usually done with the RNNs, in each step of the decoder we look at all the states of the encoder, being able to access information about all the elements of the input sequence. This is what attention does, it extracts information from the whole sequence, a weighted sum of all the past encoder states. This allows the decoder to assign greater weight or importance to a certain element of the input for each element of the output. Learning in every step to focus in the right element of the input to predict the next output element.\n",
    "\n",
    "But this approach continues to have an important limitation, each sequence must be treated one at a time. Both the encoder and the decoder have to wait till the completion of t-1 steps to process at 't'th step. So when dealing with huge corpus **it is very time consuming and computationally inefficient**."
   ]
  },
  {
   "cell_type": "markdown",
   "metadata": {
    "id": "fN7pJARIt9uK"
   },
   "source": [
    "# Loading the libraries"
   ]
  },
  {
   "cell_type": "markdown",
   "metadata": {
    "id": "t5DbIHC-F6Hf"
   },
   "source": [
    "Load and install, if necessary, the python libraries we will use along this notebook. We force to import Tensorflow version 2, if it is available."
   ]
  },
  {
   "cell_type": "code",
   "execution_count": 1,
   "metadata": {
    "executionInfo": {
     "elapsed": 1499,
     "status": "ok",
     "timestamp": 1604164306003,
     "user": {
      "displayName": "Eduardo Muñoz Sala",
      "photoUrl": "https://lh3.googleusercontent.com/a-/AOh14Gi9gTFB7xfdxQyNiKRUzqE5vwb9WQjQuMtQz5F16w=s64",
      "userId": "13317831924226771761"
     },
     "user_tz": -60
    },
    "id": "ZbcvtPlp3YWu"
   },
   "outputs": [
    {
     "ename": "ModuleNotFoundError",
     "evalue": "No module named 'google'",
     "output_type": "error",
     "traceback": [
      "\u001b[0;31m---------------------------------------------------------------------------\u001b[0m",
      "\u001b[0;31mModuleNotFoundError\u001b[0m                       Traceback (most recent call last)",
      "Cell \u001b[0;32mIn[1], line 12\u001b[0m\n\u001b[1;32m      9\u001b[0m \u001b[38;5;28;01mimport\u001b[39;00m \u001b[38;5;21;01mmatplotlib\u001b[39;00m\u001b[38;5;21;01m.\u001b[39;00m\u001b[38;5;21;01mpyplot\u001b[39;00m \u001b[38;5;28;01mas\u001b[39;00m \u001b[38;5;21;01mplt\u001b[39;00m\n\u001b[1;32m     10\u001b[0m get_ipython()\u001b[38;5;241m.\u001b[39mrun_line_magic(\u001b[38;5;124m'\u001b[39m\u001b[38;5;124mmatplotlib\u001b[39m\u001b[38;5;124m'\u001b[39m, \u001b[38;5;124m'\u001b[39m\u001b[38;5;124minline\u001b[39m\u001b[38;5;124m'\u001b[39m)\n\u001b[0;32m---> 12\u001b[0m \u001b[38;5;28;01mfrom\u001b[39;00m \u001b[38;5;21;01mgoogle\u001b[39;00m\u001b[38;5;21;01m.\u001b[39;00m\u001b[38;5;21;01mcolab\u001b[39;00m \u001b[38;5;28;01mimport\u001b[39;00m drive\n",
      "\u001b[0;31mModuleNotFoundError\u001b[0m: No module named 'google'"
     ]
    }
   ],
   "source": [
    "import math\n",
    "import os\n",
    "import gc\n",
    "import time\n",
    "import re\n",
    "\n",
    "import pandas as pd\n",
    "import numpy as np\n",
    "import matplotlib.pyplot as plt\n",
    "%matplotlib inline \n",
    "\n",
    "from google.colab import drive"
   ]
  },
  {
   "cell_type": "code",
   "execution_count": 2,
   "metadata": {
    "executionInfo": {
     "elapsed": 2911,
     "status": "ok",
     "timestamp": 1604164318361,
     "user": {
      "displayName": "Eduardo Muñoz Sala",
      "photoUrl": "https://lh3.googleusercontent.com/a-/AOh14Gi9gTFB7xfdxQyNiKRUzqE5vwb9WQjQuMtQz5F16w=s64",
      "userId": "13317831924226771761"
     },
     "user_tz": -60
    },
    "id": "P6o_cpZz3y_-"
   },
   "outputs": [
    {
     "ename": "ModuleNotFoundError",
     "evalue": "No module named 'tensorflow'",
     "output_type": "error",
     "traceback": [
      "\u001b[0;31m---------------------------------------------------------------------------\u001b[0m",
      "\u001b[0;31mModuleNotFoundError\u001b[0m                       Traceback (most recent call last)",
      "Cell \u001b[0;32mIn[2], line 1\u001b[0m\n\u001b[0;32m----> 1\u001b[0m \u001b[38;5;28;01mimport\u001b[39;00m \u001b[38;5;21;01mtensorflow\u001b[39;00m \u001b[38;5;28;01mas\u001b[39;00m \u001b[38;5;21;01mtf\u001b[39;00m\n\u001b[1;32m      3\u001b[0m \u001b[38;5;28;01mfrom\u001b[39;00m \u001b[38;5;21;01mtensorflow\u001b[39;00m\u001b[38;5;21;01m.\u001b[39;00m\u001b[38;5;21;01mkeras\u001b[39;00m \u001b[38;5;28;01mimport\u001b[39;00m layers\n\u001b[1;32m      4\u001b[0m \u001b[38;5;28;01mfrom\u001b[39;00m \u001b[38;5;21;01mtensorflow\u001b[39;00m\u001b[38;5;21;01m.\u001b[39;00m\u001b[38;5;21;01mkeras\u001b[39;00m \u001b[38;5;28;01mimport\u001b[39;00m backend \u001b[38;5;28;01mas\u001b[39;00m K\n",
      "\u001b[0;31mModuleNotFoundError\u001b[0m: No module named 'tensorflow'"
     ]
    }
   ],
   "source": [
    "try:\n",
    "    %tensorflow_version 2.x\n",
    "except:\n",
    "    pass\n",
    "import tensorflow as tf\n",
    "\n",
    "from tensorflow.keras import layers\n",
    "from tensorflow.keras import backend as K\n",
    "import tensorflow_datasets as tfds\n",
    "\n",
    "from keras.preprocessing.text import Tokenizer\n",
    "from keras.preprocessing.sequence import pad_sequences"
   ]
  },
  {
   "cell_type": "markdown",
   "metadata": {
    "id": "bqyCyv2b5iif"
   },
   "source": [
    "Setting some parameters and hyperparameters for our model"
   ]
  },
  {
   "cell_type": "code",
   "execution_count": 3,
   "metadata": {
    "executionInfo": {
     "elapsed": 984,
     "status": "ok",
     "timestamp": 1604164327404,
     "user": {
      "displayName": "Eduardo Muñoz Sala",
      "photoUrl": "https://lh3.googleusercontent.com/a-/AOh14Gi9gTFB7xfdxQyNiKRUzqE5vwb9WQjQuMtQz5F16w=s64",
      "userId": "13317831924226771761"
     },
     "user_tz": -60
    },
    "id": "rTr3QS6_5tBO"
   },
   "outputs": [],
   "source": [
    "# Parameters for our model\n",
    "INPUT_COLUMN = 'input'\n",
    "TARGET_COLUMN = 'target'\n",
    "NUM_SAMPLES = 80000 #40000\n",
    "MAX_VOCAB_SIZE = 2**14\n",
    "\n",
    "BATCH_SIZE = 64  # Batch size for training.\n",
    "EPOCHS = 10  # Number of epochs to train for.\n",
    "MAX_LENGTH = 15\n",
    "\n",
    "# Global parameters\n",
    "root_folder='/content/drive'\n",
    "data_folder_name='My Drive/datasets/eng_spa_translations'\n",
    "checkpoint_folder = \"My Drive/Projects/Transformer_NMT/ckpt/\"\n",
    "train_filename='spa.txt'\n",
    "\n",
    "# Variable for data directory\n",
    "DATA_PATH = os.path.abspath(os.path.join(root_folder, data_folder_name))\n",
    "train_filenamepath = os.path.abspath(os.path.join(DATA_PATH, train_filename))\n",
    "checkpoint_path = os.path.abspath(os.path.join(root_folder, checkpoint_folder))\n",
    "\n",
    "# Both train and test set are in the root data directory\n",
    "train_path = DATA_PATH\n"
   ]
  },
  {
   "cell_type": "markdown",
   "metadata": {
    "id": "BQN8jwx48_yU"
   },
   "source": [
    "# The dataset and text processing\n",
    "\n",
    "For this exercise we will use pairs of simple sentences, the source in English and target in Spanish, from the Tatoeba project where people contribute adding translations every day. This is the [link](http://www.manythings.org/anki/) to some traslations in different languages. There you can download the Spanish - English spa_eng.zip file, it contains 124457 pairs of sentences.\n",
    "\n",
    "We use a list of **non breaking prefixes** to avoid the tokenizer to split or break words including that prefixes. Inm our example we do not want to remove some the dot for some well-konw words.You can find non breaking prefixes for many languages in the Kaggle website: \n",
    "\n",
    "https://www.kaggle.com/nltkdata/nonbreaking-prefixes/activity\n",
    "\n",
    "\n",
    "The text sentences are almost clean, they are simple plain text, so we only need to remove dots that are not a end of sentence symbol and duplicated white spaces. \n",
    "\n",
    "The following functions will apply the cleaning mentioned previously:\n"
   ]
  },
  {
   "cell_type": "code",
   "execution_count": 4,
   "metadata": {
    "executionInfo": {
     "elapsed": 907,
     "status": "ok",
     "timestamp": 1604164333039,
     "user": {
      "displayName": "Eduardo Muñoz Sala",
      "photoUrl": "https://lh3.googleusercontent.com/a-/AOh14Gi9gTFB7xfdxQyNiKRUzqE5vwb9WQjQuMtQz5F16w=s64",
      "userId": "13317831924226771761"
     },
     "user_tz": -60
    },
    "id": "xnomPENWc3gD"
   },
   "outputs": [],
   "source": [
    "def preprocess_text_nonbreaking(corpus, non_breaking_prefixes):\n",
    "  corpus_cleaned = corpus\n",
    "  # Add the string $$$ before the non breaking prefixes\n",
    "  # To avoid remove dots from some words\n",
    "  for prefix in non_breaking_prefixes:\n",
    "    corpus_cleaned = corpus_cleaned.replace(prefix, prefix + '$$$')\n",
    "  # Remove dots not at the end of a sentence\n",
    "  corpus_cleaned = re.sub(r\"\\.(?=[0-9]|[a-z]|[A-Z])\", \".$$$\", corpus_cleaned)\n",
    "  # Remove the $$$ mark\n",
    "  corpus_cleaned = re.sub(r\"\\.\\$\\$\\$\", '', corpus_cleaned)\n",
    "  # Rmove multiple white spaces\n",
    "  corpus_cleaned = re.sub(r\"  +\", \" \", corpus_cleaned)\n",
    "\n",
    "  return corpus_cleaned\n"
   ]
  },
  {
   "cell_type": "markdown",
   "metadata": {
    "id": "bPlOT-2mlw0r"
   },
   "source": [
    "## Loading the dataset"
   ]
  },
  {
   "cell_type": "markdown",
   "metadata": {
    "id": "dCD9jwXsLwS_"
   },
   "source": [
    "Mount our Google Drive unit to access the datafiles from the notebook"
   ]
  },
  {
   "cell_type": "code",
   "execution_count": 5,
   "metadata": {
    "colab": {
     "base_uri": "https://localhost:8080/"
    },
    "executionInfo": {
     "elapsed": 23075,
     "status": "ok",
     "timestamp": 1604164368476,
     "user": {
      "displayName": "Eduardo Muñoz Sala",
      "photoUrl": "https://lh3.googleusercontent.com/a-/AOh14Gi9gTFB7xfdxQyNiKRUzqE5vwb9WQjQuMtQz5F16w=s64",
      "userId": "13317831924226771761"
     },
     "user_tz": -60
    },
    "id": "eQpbl1pXCR0p",
    "outputId": "84007fec-ee1c-42cb-fba9-a8bbe521e6d9"
   },
   "outputs": [
    {
     "name": "stdout",
     "output_type": "stream",
     "text": [
      "Mounted at /content/drive\n"
     ]
    }
   ],
   "source": [
    "drive.mount(\"/content/drive\")"
   ]
  },
  {
   "cell_type": "markdown",
   "metadata": {
    "id": "7Bf2mfHHbqGK"
   },
   "source": [
    "Loading the list of non breaking prefixes for the english and the spanish sentences"
   ]
  },
  {
   "cell_type": "code",
   "execution_count": 6,
   "metadata": {
    "executionInfo": {
     "elapsed": 2367,
     "status": "ok",
     "timestamp": 1604164376760,
     "user": {
      "displayName": "Eduardo Muñoz Sala",
      "photoUrl": "https://lh3.googleusercontent.com/a-/AOh14Gi9gTFB7xfdxQyNiKRUzqE5vwb9WQjQuMtQz5F16w=s64",
      "userId": "13317831924226771761"
     },
     "user_tz": -60
    },
    "id": "fjKW8DnObtvl"
   },
   "outputs": [],
   "source": [
    "with open(DATA_PATH+\"/nonbreaking_prefix.en\", \n",
    "          mode = \"r\", encoding = \"utf-8\") as f:\n",
    "    non_breaking_prefix_en = f.read()\n",
    "with open(DATA_PATH+\"/nonbreaking_prefix.es\", \n",
    "          mode = \"r\", encoding = \"utf-8\") as f:\n",
    "    non_breaking_prefix_es = f.read()\n",
    "\n",
    "non_breaking_prefix_en = non_breaking_prefix_en.split(\"\\n\")\n",
    "non_breaking_prefix_en = [' ' + pref + '.' for pref in non_breaking_prefix_en]\n",
    "non_breaking_prefix_es = non_breaking_prefix_es.split(\"\\n\")\n",
    "non_breaking_prefix_es = [' ' + pref + '.' for pref in non_breaking_prefix_es]"
   ]
  },
  {
   "cell_type": "markdown",
   "metadata": {
    "id": "gdgqJNZc63nk"
   },
   "source": [
    "Load the dataset into a pandas dataframe and apply the preprocess function to the input and target columns."
   ]
  },
  {
   "cell_type": "code",
   "execution_count": 7,
   "metadata": {
    "colab": {
     "base_uri": "https://localhost:8080/"
    },
    "executionInfo": {
     "elapsed": 3604,
     "status": "ok",
     "timestamp": 1604164410474,
     "user": {
      "displayName": "Eduardo Muñoz Sala",
      "photoUrl": "https://lh3.googleusercontent.com/a-/AOh14Gi9gTFB7xfdxQyNiKRUzqE5vwb9WQjQuMtQz5F16w=s64",
      "userId": "13317831924226771761"
     },
     "user_tz": -60
    },
    "id": "0G8Wa9FBdy5Y",
    "outputId": "b33db2f5-5781-4eb6-bb72-5af73d1d823e"
   },
   "outputs": [
    {
     "name": "stdout",
     "output_type": "stream",
     "text": [
      "Number of sentences:  80000\n",
      "['Go.', 'Go.', 'Go.', 'Go.', 'Hi.']\n",
      "['Ve.', 'Vete.', 'Vaya.', 'Váyase.', 'Hola.']\n"
     ]
    }
   ],
   "source": [
    "# Load the dataset: sentence in english, sentence in spanish \n",
    "df=pd.read_csv(train_filenamepath, sep=\"\\t\", header=None, names=[INPUT_COLUMN,TARGET_COLUMN], usecols=[0,1], \n",
    "               nrows=NUM_SAMPLES)\n",
    "# Preprocess the input data\n",
    "input_data=df[INPUT_COLUMN].apply(lambda x : preprocess_text_nonbreaking(x, non_breaking_prefix_en)).tolist()\n",
    "# Preprocess and include the end of sentence token to the target text\n",
    "target_data=df[TARGET_COLUMN].apply(lambda x : preprocess_text_nonbreaking(x, non_breaking_prefix_es)).tolist()\n",
    "\n",
    "print('Number of sentences: ',len(input_data))\n",
    "print(input_data[:5])\n",
    "print(target_data[:5])"
   ]
  },
  {
   "cell_type": "code",
   "execution_count": 8,
   "metadata": {
    "colab": {
     "base_uri": "https://localhost:8080/"
    },
    "executionInfo": {
     "elapsed": 1072,
     "status": "ok",
     "timestamp": 1604164414243,
     "user": {
      "displayName": "Eduardo Muñoz Sala",
      "photoUrl": "https://lh3.googleusercontent.com/a-/AOh14Gi9gTFB7xfdxQyNiKRUzqE5vwb9WQjQuMtQz5F16w=s64",
      "userId": "13317831924226771761"
     },
     "user_tz": -60
    },
    "id": "TMAFFdpIyNZd",
    "outputId": "db773f7b-1723-47a4-f7a5-3f3b4572a8a6"
   },
   "outputs": [
    {
     "data": {
      "text/plain": [
       "0"
      ]
     },
     "execution_count": 8,
     "metadata": {
      "tags": []
     },
     "output_type": "execute_result"
    }
   ],
   "source": [
    "#Delete the dataframe and release the memory (if it is possible)\n",
    "del df\n",
    "gc.collect()"
   ]
  },
  {
   "cell_type": "markdown",
   "metadata": {
    "id": "TEFw0D2vP_Dl"
   },
   "source": [
    "# Tokenize the text data\n",
    "\n",
    "Next, let's see how to prepare the data for our model. It is very simple and the steps are the following:\n",
    "\n",
    "- Create the vocabulary from the corpus using Subword tokenization, breaking words into “subword units” - strings of characters like ing or eau - that allow the downstream model to make intelligent decisions on words it doesn’t recognize.\n",
    "- Calculate the maximum length of the input and output sequences.\n",
    "- Tokenize the data, convert the raw text into a sequence of integers. Once we define the vocabulary, we use the encode method to get the token for every word in the corpus.\n",
    "- Remove sentences longer that the max length defined.\n",
    "- Padding the sentences: we need to pad zeros at the end of the sequences so that all sequences have the same length. Otherwise, we won't be able train the model on batches"
   ]
  },
  {
   "cell_type": "code",
   "execution_count": 9,
   "metadata": {
    "executionInfo": {
     "elapsed": 909,
     "status": "ok",
     "timestamp": 1604164418564,
     "user": {
      "displayName": "Eduardo Muñoz Sala",
      "photoUrl": "https://lh3.googleusercontent.com/a-/AOh14Gi9gTFB7xfdxQyNiKRUzqE5vwb9WQjQuMtQz5F16w=s64",
      "userId": "13317831924226771761"
     },
     "user_tz": -60
    },
    "id": "khsaxokjofHr"
   },
   "outputs": [],
   "source": [
    "def subword_tokenize(corpus, vocab_size, max_length):\n",
    "  # Create the vocabulary using Subword tokenization\n",
    "  tokenizer_corpus = tfds.deprecated.text.SubwordTextEncoder.build_from_corpus(\n",
    "    corpus, target_vocab_size=vocab_size)\n",
    "  # Get the final vocab size, adding the eos and sos tokens\n",
    "  num_words = tokenizer_corpus.vocab_size + 2\n",
    "  # Set eos and sos token\n",
    "  sos_token = [num_words-2]\n",
    "  eos_token = [num_words-1]\n",
    "  # Tokenize the corpus\n",
    "  sentences = [sos_token + tokenizer_corpus.encode(sentence) + eos_token\n",
    "          for sentence in corpus]\n",
    "  # Identify the index of the sentences longer than max length\n",
    "  idx_to_remove = [count for count, sent in enumerate(sentences)\n",
    "                 if len(sent) > max_length]\n",
    "  #Pad the sentences\n",
    "  sentences = tf.keras.preprocessing.sequence.pad_sequences(sentences,\n",
    "                                                       value=0,\n",
    "                                                       padding='post',\n",
    "                                                       maxlen=max_length)\n",
    "  \n",
    "  return sentences, tokenizer_corpus, num_words, sos_token, eos_token, idx_to_remove\n"
   ]
  },
  {
   "cell_type": "code",
   "execution_count": 10,
   "metadata": {
    "executionInfo": {
     "elapsed": 54005,
     "status": "ok",
     "timestamp": 1604164475693,
     "user": {
      "displayName": "Eduardo Muñoz Sala",
      "photoUrl": "https://lh3.googleusercontent.com/a-/AOh14Gi9gTFB7xfdxQyNiKRUzqE5vwb9WQjQuMtQz5F16w=s64",
      "userId": "13317831924226771761"
     },
     "user_tz": -60
    },
    "id": "onrwROJrquij"
   },
   "outputs": [],
   "source": [
    "# Tokenize and pad the input sequences\n",
    "encoder_inputs, tokenizer_inputs, num_words_inputs, sos_token_input, eos_token_input, del_idx_inputs= subword_tokenize(input_data, \n",
    "                                                                                                        MAX_VOCAB_SIZE, MAX_LENGTH)\n",
    "# Tokenize and pad the outputs sequences\n",
    "decoder_outputs, tokenizer_outputs, num_words_output, sos_token_output, eos_token_output, del_idx_outputs = subword_tokenize(target_data, \n",
    "                                                                                                        MAX_VOCAB_SIZE, MAX_LENGTH)"
   ]
  },
  {
   "cell_type": "code",
   "execution_count": 11,
   "metadata": {
    "colab": {
     "base_uri": "https://localhost:8080/"
    },
    "executionInfo": {
     "elapsed": 1000,
     "status": "ok",
     "timestamp": 1604164485208,
     "user": {
      "displayName": "Eduardo Muñoz Sala",
      "photoUrl": "https://lh3.googleusercontent.com/a-/AOh14Gi9gTFB7xfdxQyNiKRUzqE5vwb9WQjQuMtQz5F16w=s64",
      "userId": "13317831924226771761"
     },
     "user_tz": -60
    },
    "id": "gYtibBaqsAxA",
    "outputId": "abff64f4-e25b-4531-f148-cf7c39cfec94"
   },
   "outputs": [
    {
     "name": "stdout",
     "output_type": "stream",
     "text": [
      "[[14050  5483 13840 14051     0     0     0     0     0     0     0     0\n",
      "      0     0     0]\n",
      " [14050  5483 13840 14051     0     0     0     0     0     0     0     0\n",
      "      0     0     0]\n",
      " [14050  5483 13840 14051     0     0     0     0     0     0     0     0\n",
      "      0     0     0]\n",
      " [14050  5483 13840 14051     0     0     0     0     0     0     0     0\n",
      "      0     0     0]\n",
      " [14050  2180 13840 14051     0     0     0     0     0     0     0     0\n",
      "      0     0     0]] [14050] [14051]\n",
      "[[15568 10468 15358 15569     0     0     0     0     0     0     0     0\n",
      "      0     0     0]\n",
      " [15568 10468   263 15358 15569     0     0     0     0     0     0     0\n",
      "      0     0     0]\n",
      " [15568 10469 15358 15569     0     0     0     0     0     0     0     0\n",
      "      0     0     0]\n",
      " [15568 14581 15358 15569     0     0     0     0     0     0     0     0\n",
      "      0     0     0]\n",
      " [15568  2976 15358 15569     0     0     0     0     0     0     0     0\n",
      "      0     0     0]] [15568] [15569]\n"
     ]
    }
   ],
   "source": [
    "# Check the tokenize function\n",
    "print(encoder_inputs[:5], sos_token_input, eos_token_input)\n",
    "print(decoder_outputs[:5], sos_token_output, eos_token_output)"
   ]
  },
  {
   "cell_type": "code",
   "execution_count": 12,
   "metadata": {
    "colab": {
     "base_uri": "https://localhost:8080/"
    },
    "executionInfo": {
     "elapsed": 987,
     "status": "ok",
     "timestamp": 1604164491249,
     "user": {
      "displayName": "Eduardo Muñoz Sala",
      "photoUrl": "https://lh3.googleusercontent.com/a-/AOh14Gi9gTFB7xfdxQyNiKRUzqE5vwb9WQjQuMtQz5F16w=s64",
      "userId": "13317831924226771761"
     },
     "user_tz": -60
    },
    "id": "VF4l2stYEu2l",
    "outputId": "52b708b7-415b-4a46-a1f4-83673abc2938"
   },
   "outputs": [
    {
     "name": "stdout",
     "output_type": "stream",
     "text": [
      "Size of Input Vocabulary:  14052\n",
      "Size of Output Vocabulary:  15570\n"
     ]
    }
   ],
   "source": [
    "print('Size of Input Vocabulary: ', num_words_inputs)\n",
    "print('Size of Output Vocabulary: ', num_words_output)"
   ]
  },
  {
   "cell_type": "markdown",
   "metadata": {
    "id": "Ypm8h5aZQTZ1"
   },
   "source": [
    "# Create the batch data generator"
   ]
  },
  {
   "cell_type": "markdown",
   "metadata": {
    "id": "9FP0WPsdM8hl"
   },
   "source": [
    "- Create a batch data generator: we want to train the model on batches, group of sentences, so we need to create a Dataset using the tf.data library and the function batch_on_slices on the input and output sequences."
   ]
  },
  {
   "cell_type": "code",
   "execution_count": 13,
   "metadata": {
    "executionInfo": {
     "elapsed": 6333,
     "status": "ok",
     "timestamp": 1604164511134,
     "user": {
      "displayName": "Eduardo Muñoz Sala",
      "photoUrl": "https://lh3.googleusercontent.com/a-/AOh14Gi9gTFB7xfdxQyNiKRUzqE5vwb9WQjQuMtQz5F16w=s64",
      "userId": "13317831924226771761"
     },
     "user_tz": -60
    },
    "id": "wFxMp3TOIYff"
   },
   "outputs": [],
   "source": [
    "# Define a dataset \n",
    "dataset = tf.data.Dataset.from_tensor_slices(\n",
    "    (encoder_inputs, decoder_outputs))\n",
    "dataset = dataset.shuffle(len(input_data), reshuffle_each_iteration=True).batch(\n",
    "    BATCH_SIZE, drop_remainder=True)\n",
    "\n",
    "dataset = dataset.prefetch(tf.data.experimental.AUTOTUNE)"
   ]
  },
  {
   "cell_type": "markdown",
   "metadata": {
    "id": "ycT0YqydRcUd"
   },
   "source": [
    "# Building a Transformer"
   ]
  },
  {
   "cell_type": "markdown",
   "metadata": {
    "id": "Y-iKViHeWz20"
   },
   "source": [
    "## What is Transformer?\n",
    "*\"In this work we propose the Transformer, a model architecture eschewing recurrence and instead relying entirely on an attention mechanism to draw global dependencies between input and output. The Transformer allows for significantly more parallelization … the Transformer is the first transduction model relying entirely on self-attention to compute representations of its input and output without using sequence-aligned RNNs or convolution.\"*\n",
    "\n",
    "\"Attention is all you need\" paper\n",
    "\n",
    "The Transformer model extract  features for each word using a self-attention mechanism to figure out how important all the other words in the sentence are w.r.t. to the aforementioned word. And no recurrent units are used to obtain this features, they are just weighted sum and activations, so they can be very parallelizable and efficient.\n",
    "\n",
    "But We will dive deeper to understand what all this means."
   ]
  },
  {
   "cell_type": "markdown",
   "metadata": {
    "id": "lcw8YIQqRhOJ"
   },
   "source": [
    "# Self-attention: the fundamental operation\n",
    "\n",
    "*\"Self-attention is a sequence-to-sequence operation: a sequence of vectors goes in, and a sequence of vectors comes out. Let's call the input vectors 𝐱1,𝐱2,…𝐱t and the corresponding output vectors 𝐲1,𝐲2,…,𝐲t. The vectors all have dimension k. To produce output vector 𝐲i, the self attention operation simply takes a weighted average over all the input vectors, the simplest option is the dot product.\"*\n",
    "\n",
    "**Transformers from scratch by Peter Bloem**\n",
    "\n",
    "In the self-attention mechanism of our model we need to introduce three elements: Queries, Values and Keys\n",
    "\n"
   ]
  },
  {
   "cell_type": "markdown",
   "metadata": {
    "id": "UBlUGBq9eFKx"
   },
   "source": [
    "## Queries, Keys and Values\n",
    "Every input vector is used in three different ways in the self-attention mechanism: the Query, the Key and the Value. In every role, it is compared to the others vectors to get its own output yi (Query), to get the j-th output yj (Key) and to compute each output vector once the weights have been established (Value).\n",
    "\n",
    "To obtain this roles, we need three weight matrices of dimensions k x k and compute three linear transformation for each xi:\n",
    "\n",
    "![Alt](images/query_key_value.png \"title \"Transformers from scratch\" by Peter Bloem\")\n",
    "\n",
    "These three matrices are usually known as K, Q and V, three learnable weight layers that are applied to the same encoded input. Consequently, as each of these three matrices come from the same input, we can apply the attention mechanism of the input vector with itself, a \"self-attention\".\n"
   ]
  },
  {
   "cell_type": "markdown",
   "metadata": {
    "id": "3sffhwwvX-wj"
   },
   "source": [
    "## Scale dot-product Attention\n",
    "\n",
    "*The input consists of queries and keys of dimension dk, and values of dimension dv. We compute the dot products of the query with all keys, divide each by the square root of dk, and apply a softmax function to obtain the weights on the values.*\n",
    "\n",
    "\"Attention is all you need\" paper\n",
    "\n",
    "Then we use the Q, K and V matrices to calculate the attention scores. **The scores measure how much focus to place on other places or words of the input sequence w.r.t a word at a certain position**. That is, the dot product of the query vector with the key vector of the respective word we're scoring. So, for position 1 we calculate the dot product (.) of q1 and k1, then q1 . k2, q1 . k3,… \n",
    "\n",
    "Next we apply the \"scaled\" factor to have more stable gradients. The softmax function can not work properly with large values, resulting in vanishing the gradient and slow down the learning. After \"softmaxing\" we multiply by the Value matrix to keep the values of the words we want to focus on and minimizing or removing the values for the irrelevant words (its value in V matrix should be very small).\n",
    "\n",
    "The formula for these operations is:\n",
    "\n",
    "$Attention(Q, K, V ) = \\text{softmax}\\left(\\dfrac{QK^T}{\\sqrt{d_k}}\\right)V $\n"
   ]
  },
  {
   "cell_type": "code",
   "execution_count": 14,
   "metadata": {
    "executionInfo": {
     "elapsed": 1003,
     "status": "ok",
     "timestamp": 1604164522271,
     "user": {
      "displayName": "Eduardo Muñoz Sala",
      "photoUrl": "https://lh3.googleusercontent.com/a-/AOh14Gi9gTFB7xfdxQyNiKRUzqE5vwb9WQjQuMtQz5F16w=s64",
      "userId": "13317831924226771761"
     },
     "user_tz": -60
    },
    "id": "2rEoCNJURbrT"
   },
   "outputs": [],
   "source": [
    "def scaled_dot_product_attention(queries, keys, values, mask):\n",
    "    # Calculate the dot product, QK_transpose\n",
    "    product = tf.matmul(queries, keys, transpose_b=True)\n",
    "    # Get the scale factor\n",
    "    keys_dim = tf.cast(tf.shape(keys)[-1], tf.float32)\n",
    "    # Apply the scale factor to the dot product\n",
    "    scaled_product = product / tf.math.sqrt(keys_dim)\n",
    "    # Apply masking when it is requiered\n",
    "    if mask is not None:\n",
    "        scaled_product += (mask * -1e9)\n",
    "    # dot product with Values\n",
    "    attention = tf.matmul(tf.nn.softmax(scaled_product, axis=-1), values)\n",
    "    \n",
    "    return attention"
   ]
  },
  {
   "cell_type": "markdown",
   "metadata": {
    "id": "-MjtvXrfYEx7"
   },
   "source": [
    "## Multi-Head Attention\n",
    "\n",
    "In the previous description the attention scores are focused on the whole sentence at a time, this would produce the same results even if two sentences contain the same words in a different order. Instead, we would like to attend to different segments of the words. We can give the self attention greater power of discrimination, **by combining several self attention heads**, dividing the words vectors into a fixed number (h, number of heads) of chunks, and then self-attention is applied on the corresponding chunks, using Q, K and V sub-matrices. \n",
    "\n",
    "This produce h different output matrices of scores.\n",
    "\n",
    "![Alt](images/dor_product_multihead.PNG \"title From \"Attention is all you need\" paper by Vaswani, et al., 2017\")\n",
    "\n",
    "But the next layer (the Feed-Forward layer) is expecting just one matrix, a vector for each word, so after calculating the dot product of every head, we concat the output matrices and multiply them by an additional weights matrix $W_O$. This final matrix captures information from all the attention heads.\n",
    "\n",
    "$MultihHead(Q, K, V ) = \\text{Concat}(head_1,...,head_n)W^O$\n",
    "\n",
    "where $head_i=Attention(QW_i^Q,QW_i^K,QW_i^V)$ and $i$ is the head index.\n"
   ]
  },
  {
   "cell_type": "code",
   "execution_count": 15,
   "metadata": {
    "executionInfo": {
     "elapsed": 995,
     "status": "ok",
     "timestamp": 1604164525310,
     "user": {
      "displayName": "Eduardo Muñoz Sala",
      "photoUrl": "https://lh3.googleusercontent.com/a-/AOh14Gi9gTFB7xfdxQyNiKRUzqE5vwb9WQjQuMtQz5F16w=s64",
      "userId": "13317831924226771761"
     },
     "user_tz": -60
    },
    "id": "lvq4I9uTX5p7"
   },
   "outputs": [],
   "source": [
    "class MultiHeadAttention(layers.Layer):\n",
    "    \n",
    "    def __init__(self, n_heads):\n",
    "        super(MultiHeadAttention, self).__init__()\n",
    "        self.n_heads = n_heads\n",
    "        \n",
    "    def build(self, input_shape):\n",
    "        self.d_model = input_shape[-1]\n",
    "        assert self.d_model % self.n_heads == 0\n",
    "        # Calculate the dimension of every head or projection\n",
    "        self.d_head = self.d_model // self.n_heads\n",
    "        # Set the weight matrices for Q, K and V\n",
    "        self.query_lin = layers.Dense(units=self.d_model)\n",
    "        self.key_lin = layers.Dense(units=self.d_model)\n",
    "        self.value_lin = layers.Dense(units=self.d_model)\n",
    "        # Set the weight matrix for the output of the multi-head attention W0\n",
    "        self.final_lin = layers.Dense(units=self.d_model)\n",
    "        \n",
    "    def split_proj(self, inputs, batch_size): # inputs: (batch_size, seq_length, d_model)\n",
    "        # Set the dimension of the projections\n",
    "        shape = (batch_size,\n",
    "                 -1,\n",
    "                 self.n_heads,\n",
    "                 self.d_head)\n",
    "        # Split the input vectors\n",
    "        splited_inputs = tf.reshape(inputs, shape=shape) # (batch_size, seq_length, nb_proj, d_proj)\n",
    "        return tf.transpose(splited_inputs, perm=[0, 2, 1, 3]) # (batch_size, nb_proj, seq_length, d_proj)\n",
    "    \n",
    "    def call(self, queries, keys, values, mask):\n",
    "        # Get the batch size\n",
    "        batch_size = tf.shape(queries)[0]\n",
    "        # Set the Query, Key and Value matrices\n",
    "        queries = self.query_lin(queries)\n",
    "        keys = self.key_lin(keys)\n",
    "        values = self.value_lin(values)\n",
    "        # Split Q, K y V between the heads or projections\n",
    "        queries = self.split_proj(queries, batch_size)\n",
    "        keys = self.split_proj(keys, batch_size)\n",
    "        values = self.split_proj(values, batch_size)\n",
    "        # Apply the scaled dot product\n",
    "        attention = scaled_dot_product_attention(queries, keys, values, mask)\n",
    "        # Get the attention scores\n",
    "        attention = tf.transpose(attention, perm=[0, 2, 1, 3])\n",
    "        # Concat the h heads or projections\n",
    "        concat_attention = tf.reshape(attention,\n",
    "                                      shape=(batch_size, -1, self.d_model))\n",
    "        # Apply W0 to get the output of the multi-head attention\n",
    "        outputs = self.final_lin(concat_attention)\n",
    "        \n",
    "        return outputs"
   ]
  },
  {
   "cell_type": "markdown",
   "metadata": {
    "id": "-SBoH8G4XyR9"
   },
   "source": [
    "# Positional Encoding\n",
    "\n",
    "We mentioned briefly that the order of the words in the sentence is an issue to solve in this model, because the network and the self-attention mechanism is permutation invariant. If we shuffle up the words in the input sentence, we get the same solutions. We need to create a representation of the position of the word in the sentence and add it to the word embedding.\n",
    "\n",
    "*To this end, we add \"positional encodings\" to the input embeddings at the bottoms of the encoder and decoder stacks. The positional encodings have the same dimension as the embeddings, so that the two can be summed. There are many choices of positional encodings.*\n",
    "\n",
    "\"Attention is all you need\" paper\n",
    "\n",
    "So, we apply a function to map the position in the sentence to real valued vector. The network will learn how to use this information. Another approach would be to use a position embedding, similar to word embedding, coding every known position with a vector. It would requiere sentences of all accepted positions during training but positional encoding allow the model to extrapolate to sequence lengths longer than the ones encountered.\n",
    "\n",
    "In the paper a sinusoidal function is applied:"
   ]
  },
  {
   "cell_type": "markdown",
   "metadata": {
    "id": "7G9C3ucmJ86I"
   },
   "source": [
    "$PE_{(pos,2i)} =\\sin(pos/10000^{2i/dmodel})$\n",
    "\n",
    "$PE_{(pos,2i+1)} =\\cos(pos/10000^{2i/dmodel})$"
   ]
  },
  {
   "cell_type": "code",
   "execution_count": 16,
   "metadata": {
    "executionInfo": {
     "elapsed": 968,
     "status": "ok",
     "timestamp": 1604164529236,
     "user": {
      "displayName": "Eduardo Muñoz Sala",
      "photoUrl": "https://lh3.googleusercontent.com/a-/AOh14Gi9gTFB7xfdxQyNiKRUzqE5vwb9WQjQuMtQz5F16w=s64",
      "userId": "13317831924226771761"
     },
     "user_tz": -60
    },
    "id": "e2wc6sYlX0dr"
   },
   "outputs": [],
   "source": [
    "class PositionalEncoding(layers.Layer):\n",
    "\n",
    "    def __init__(self):\n",
    "        super(PositionalEncoding, self).__init__()\n",
    "    \n",
    "    def get_angles(self, pos, i, d_model): # pos: (seq_length, 1) i: (1, d_model)\n",
    "        angles = 1 / np.power(10000., (2*(i//2)) / np.float32(d_model))\n",
    "        return pos * angles # (seq_length, d_model)\n",
    "\n",
    "    def call(self, inputs):\n",
    "        # input shape batch_size, seq_length, d_model\n",
    "        seq_length = inputs.shape.as_list()[-2]\n",
    "        d_model = inputs.shape.as_list()[-1]\n",
    "        # Calculate the angles given the input\n",
    "        angles = self.get_angles(np.arange(seq_length)[:, np.newaxis],\n",
    "                                 np.arange(d_model)[np.newaxis, :],\n",
    "                                 d_model)\n",
    "        # Calculate the positional encodings\n",
    "        angles[:, 0::2] = np.sin(angles[:, 0::2])\n",
    "        angles[:, 1::2] = np.cos(angles[:, 1::2])\n",
    "        # Expand the encodings with a new dimension\n",
    "        pos_encoding = angles[np.newaxis, ...]\n",
    "        \n",
    "        return inputs + tf.cast(pos_encoding, tf.float32)"
   ]
  },
  {
   "cell_type": "markdown",
   "metadata": {
    "id": "yiyuHe1OeT5N"
   },
   "source": [
    "# The Encoder\n",
    "\n",
    "Now that all the main pieces of the model have been described we can introduce the encoder components. \n",
    "\n",
    "- Positional encoding: Add the position encoding to the input embedding (our input words are transformed to embedding vectors). *\"The same weight matrix is shared between the two embedding layers (encoder and decoder) and the pre-softmax linear transformation. In the embedding layers, we multiply those weights by square root of the model dimension\"* [1], ${\\sqrt{d_{model}}}$.\n",
    "\n",
    "- N = 6, identical layers, containing two sub-layers: a **multi-head self-attention mechanism**, and a **fully connected feed-forward network**. This FC layer is applied to each position separately and identically and consists of two linear transformations with a ReLU activation in between. But it is applied position-wise to the input, which means that the same neural network is applied to every single \"token\" vector belonging to the sentence sequence.\n",
    "\n",
    "$$FFN(x)= max(0,xW_1+b_1)W_2+b_2$$\n",
    "\n",
    "- There is a residual connection around each sub-layer (attention and FC network) followed by a layer normalization.\n",
    "\n",
    "*Normalization and residual connections are standard tricks used to help deep neural networks train faster and more accurately. The layer normalization is applied over the embedding dimension only.*\n",
    "\n",
    "**Peter Bloem, \"Transformers from scratch\"**\n",
    "\n",
    "The next figure will show the components detailed:\n",
    "\n",
    "![Alt](images/encoder.PNG \"title \"The Ilustrated Transformer\" by Jay Alammar\")\n",
    "\n",
    "Keep in mind that **only the vector from the last layer (6-th) is sent to the decoder**."
   ]
  },
  {
   "cell_type": "code",
   "execution_count": 17,
   "metadata": {
    "executionInfo": {
     "elapsed": 1003,
     "status": "ok",
     "timestamp": 1604164532307,
     "user": {
      "displayName": "Eduardo Muñoz Sala",
      "photoUrl": "https://lh3.googleusercontent.com/a-/AOh14Gi9gTFB7xfdxQyNiKRUzqE5vwb9WQjQuMtQz5F16w=s64",
      "userId": "13317831924226771761"
     },
     "user_tz": -60
    },
    "id": "UV0ZMH7KT_KZ"
   },
   "outputs": [],
   "source": [
    "class EncoderLayer(layers.Layer):\n",
    "    \n",
    "    def __init__(self, FFN_units, n_heads, dropout_rate):\n",
    "        super(EncoderLayer, self).__init__()\n",
    "        # Hidden units of the feed forward component\n",
    "        self.FFN_units = FFN_units\n",
    "        # Set the number of projectios or heads\n",
    "        self.n_heads = n_heads\n",
    "        # Dropout rate\n",
    "        self.dropout_rate = dropout_rate\n",
    "    \n",
    "    def build(self, input_shape):\n",
    "        self.d_model = input_shape[-1]\n",
    "        # Build the multihead layer\n",
    "        self.multi_head_attention = MultiHeadAttention(self.n_heads)\n",
    "        self.dropout_1 = layers.Dropout(rate=self.dropout_rate)\n",
    "        # Layer Normalization\n",
    "        self.norm_1 = layers.LayerNormalization(epsilon=1e-6)\n",
    "        # Fully connected feed forward layer\n",
    "        self.ffn1_relu = layers.Dense(units=self.FFN_units, activation=\"relu\")\n",
    "        self.ffn2 = layers.Dense(units=self.d_model)\n",
    "        self.dropout_2 = layers.Dropout(rate=self.dropout_rate)\n",
    "        # Layer normalization\n",
    "        self.norm_2 = layers.LayerNormalization(epsilon=1e-6)\n",
    "        \n",
    "    def call(self, inputs, mask, training):\n",
    "        # Forward pass of the multi-head attention\n",
    "        attention = self.multi_head_attention(inputs,\n",
    "                                              inputs,\n",
    "                                              inputs,\n",
    "                                              mask)\n",
    "        attention = self.dropout_1(attention, training=training)\n",
    "        # Call to the residual connection and layer normalization\n",
    "        attention = self.norm_1(attention + inputs)\n",
    "        # Call to the FC layer\n",
    "        outputs = self.ffn1_relu(attention)\n",
    "        outputs = self.ffn2(outputs)\n",
    "        outputs = self.dropout_2(outputs, training=training)\n",
    "        # Call to residual connection and the layer normalization\n",
    "        outputs = self.norm_2(outputs + attention)\n",
    "        \n",
    "        return outputs"
   ]
  },
  {
   "cell_type": "code",
   "execution_count": 18,
   "metadata": {
    "executionInfo": {
     "elapsed": 428,
     "status": "ok",
     "timestamp": 1604164533414,
     "user": {
      "displayName": "Eduardo Muñoz Sala",
      "photoUrl": "https://lh3.googleusercontent.com/a-/AOh14Gi9gTFB7xfdxQyNiKRUzqE5vwb9WQjQuMtQz5F16w=s64",
      "userId": "13317831924226771761"
     },
     "user_tz": -60
    },
    "id": "P-P92KeZih60"
   },
   "outputs": [],
   "source": [
    "class Encoder(layers.Layer):\n",
    "    \n",
    "    def __init__(self,\n",
    "                 n_layers,\n",
    "                 FFN_units,\n",
    "                 n_heads,\n",
    "                 dropout_rate,\n",
    "                 vocab_size,\n",
    "                 d_model,\n",
    "                 name=\"encoder\"):\n",
    "        super(Encoder, self).__init__(name=name)\n",
    "        self.n_layers = n_layers\n",
    "        self.d_model = d_model\n",
    "        # The embedding layer\n",
    "        self.embedding = layers.Embedding(vocab_size, d_model)\n",
    "        # Positional encoding layer\n",
    "        self.pos_encoding = PositionalEncoding()\n",
    "        self.dropout = layers.Dropout(rate=dropout_rate)\n",
    "        # Stack of n layers of multi-head attention and FC\n",
    "        self.enc_layers = [EncoderLayer(FFN_units,\n",
    "                                        n_heads,\n",
    "                                        dropout_rate) \n",
    "                           for _ in range(n_layers)]\n",
    "    \n",
    "    def call(self, inputs, mask, training):\n",
    "        # Get the embedding vectors\n",
    "        outputs = self.embedding(inputs)\n",
    "        # Scale the embeddings by sqrt of d_model\n",
    "        outputs *= tf.math.sqrt(tf.cast(self.d_model, tf.float32))\n",
    "        # Positional encodding\n",
    "        outputs = self.pos_encoding(outputs)\n",
    "        outputs = self.dropout(outputs, training)\n",
    "        # Call the stacked layers\n",
    "        for i in range(self.n_layers):\n",
    "            outputs = self.enc_layers[i](outputs, mask, training)\n",
    "\n",
    "        return outputs"
   ]
  },
  {
   "cell_type": "markdown",
   "metadata": {
    "id": "7DthraBEwuvl"
   },
   "source": [
    "# The Decoder\n",
    "\n",
    "The decoder share some components with the encoder but they are used in a different way to take into account the encoder output.\n",
    "\n",
    "- Positional encoding: Similar that the one in the encoder\n",
    "- N=6 identical layers, containing 3 three sublayers. First, the Masked Multi-head attention or **masked causal attention** to prevent positions from attending to subsequent positions, hiding those features that belong to future states of the sequence. \"This masking, combined with fact that the output embeddings are offset by one position, ensures that the predictions for position i can depend only on the known outputs at positions less than i\" [1]. It is implemented setting to −∞ the values corresponding to the forbidden states in the softmax layer of the dot-product attention modules. The second component or **\"encoder-decoder attention\"** performs multi-head attention over the output of the decoder, the Key and Value vectors come from the output of the encoder but the queries come from the previous decoder layer. *This allows every position in the decoder to attend over all positions in the input sequence* [1]. And finally the fully-connected network.\n",
    "\n",
    "- The residual connection and layer normalization around each sub-layer, similar to the encoder.\n",
    "\n",
    "![Alt](images/decoder.PNG \"title \"The Ilustrated Transformer\" by Jay Alammar\")\n",
    "\n",
    "At the end of the N stacked decoders, the **linear layer**, a fully-connected network, transforms the stacked outputs to a much larger vector, the *logits*. The **softmax layer** then turns those scores (logits) into probabilities (all positive, all add up to 1.0). The cell with the highest probability is chosen, and the word associated with it is produced as the output for this time step.\n"
   ]
  },
  {
   "cell_type": "code",
   "execution_count": 19,
   "metadata": {
    "executionInfo": {
     "elapsed": 1018,
     "status": "ok",
     "timestamp": 1604164536304,
     "user": {
      "displayName": "Eduardo Muñoz Sala",
      "photoUrl": "https://lh3.googleusercontent.com/a-/AOh14Gi9gTFB7xfdxQyNiKRUzqE5vwb9WQjQuMtQz5F16w=s64",
      "userId": "13317831924226771761"
     },
     "user_tz": -60
    },
    "id": "7ZWZyFBnwy8u"
   },
   "outputs": [],
   "source": [
    "class DecoderLayer(layers.Layer):\n",
    "    \n",
    "    def __init__(self, FFN_units, n_heads, dropout_rate):\n",
    "        super(DecoderLayer, self).__init__()\n",
    "        self.FFN_units = FFN_units\n",
    "        self.n_heads = n_heads\n",
    "        self.dropout_rate = dropout_rate\n",
    "    \n",
    "    def build(self, input_shape):\n",
    "        self.d_model = input_shape[-1]\n",
    "        \n",
    "        # Self multi head attention, causal attention\n",
    "        self.multi_head_causal_attention = MultiHeadAttention(self.n_heads)\n",
    "        self.dropout_1 = layers.Dropout(rate=self.dropout_rate)\n",
    "        self.norm_1 = layers.LayerNormalization(epsilon=1e-6)\n",
    "        \n",
    "        # Multi head attention, encoder-decoder attention \n",
    "        self.multi_head_enc_dec_attention = MultiHeadAttention(self.n_heads)\n",
    "        self.dropout_2 = layers.Dropout(rate=self.dropout_rate)\n",
    "        self.norm_2 = layers.LayerNormalization(epsilon=1e-6)\n",
    "        \n",
    "        # Feed foward\n",
    "        self.ffn1_relu = layers.Dense(units=self.FFN_units,\n",
    "                                    activation=\"relu\")\n",
    "        self.ffn2 = layers.Dense(units=self.d_model)\n",
    "        self.dropout_3 = layers.Dropout(rate=self.dropout_rate)\n",
    "        self.norm_3 = layers.LayerNormalization(epsilon=1e-6)\n",
    "        \n",
    "    def call(self, inputs, enc_outputs, mask_1, mask_2, training):\n",
    "        # Call the masked causal attention\n",
    "        attention = self.multi_head_causal_attention(inputs,\n",
    "                                                inputs,\n",
    "                                                inputs,\n",
    "                                                mask_1)\n",
    "        attention = self.dropout_1(attention, training)\n",
    "        # Residual connection and layer normalization\n",
    "        attention = self.norm_1(attention + inputs)\n",
    "        # Call the encoder-decoder attention\n",
    "        attention_2 = self.multi_head_enc_dec_attention(attention,\n",
    "                                                  enc_outputs,\n",
    "                                                  enc_outputs,\n",
    "                                                  mask_2)\n",
    "        attention_2 = self.dropout_2(attention_2, training)\n",
    "        # Residual connection and layer normalization\n",
    "        attention_2 = self.norm_2(attention_2 + attention)\n",
    "        # Call the Feed forward\n",
    "        outputs = self.ffn1_relu(attention_2)\n",
    "        outputs = self.ffn2(outputs)\n",
    "        outputs = self.dropout_3(outputs, training)\n",
    "        # Residual connection and layer normalization\n",
    "        outputs = self.norm_3(outputs + attention_2)\n",
    "        \n",
    "        return outputs"
   ]
  },
  {
   "cell_type": "code",
   "execution_count": 20,
   "metadata": {
    "executionInfo": {
     "elapsed": 907,
     "status": "ok",
     "timestamp": 1604164538109,
     "user": {
      "displayName": "Eduardo Muñoz Sala",
      "photoUrl": "https://lh3.googleusercontent.com/a-/AOh14Gi9gTFB7xfdxQyNiKRUzqE5vwb9WQjQuMtQz5F16w=s64",
      "userId": "13317831924226771761"
     },
     "user_tz": -60
    },
    "id": "kpzdiWHiwywF"
   },
   "outputs": [],
   "source": [
    "class Decoder(layers.Layer):\n",
    "    \n",
    "    def __init__(self,\n",
    "                 n_layers,\n",
    "                 FFN_units,\n",
    "                 n_heads,\n",
    "                 dropout_rate,\n",
    "                 vocab_size,\n",
    "                 d_model,\n",
    "                 name=\"decoder\"):\n",
    "        super(Decoder, self).__init__(name=name)\n",
    "        self.d_model = d_model\n",
    "        self.n_layers = n_layers\n",
    "        # Embedding layer\n",
    "        self.embedding = layers.Embedding(vocab_size, d_model)\n",
    "        # Positional encoding layer\n",
    "        self.pos_encoding = PositionalEncoding()\n",
    "        self.dropout = layers.Dropout(rate=dropout_rate)\n",
    "        # Stacked layers of multi-head attention and feed forward\n",
    "        self.dec_layers = [DecoderLayer(FFN_units,\n",
    "                                        n_heads,\n",
    "                                        dropout_rate) \n",
    "                           for _ in range(n_layers)]\n",
    "    \n",
    "    def call(self, inputs, enc_outputs, mask_1, mask_2, training):\n",
    "        # Get the embedding vectors\n",
    "        outputs = self.embedding(inputs)\n",
    "        # Scale by sqrt of d_model\n",
    "        outputs *= tf.math.sqrt(tf.cast(self.d_model, tf.float32))\n",
    "        # Positional encodding\n",
    "        outputs = self.pos_encoding(outputs)\n",
    "        outputs = self.dropout(outputs, training)\n",
    "        # Call the stacked layers\n",
    "        for i in range(self.n_layers):\n",
    "            outputs = self.dec_layers[i](outputs,\n",
    "                                         enc_outputs,\n",
    "                                         mask_1,\n",
    "                                         mask_2,\n",
    "                                         training)\n",
    "\n",
    "        return outputs"
   ]
  },
  {
   "cell_type": "markdown",
   "metadata": {
    "id": "x5sJYkjbz5DD"
   },
   "source": [
    "# Transformer\n",
    "\n",
    "Once we have defined our components and created the encoder, the decoder and the linear-softmax final layer, we join the pieces to form our model, the Transformer.\n",
    "\n",
    "![Alt](images/transformer_architecture.PNG \"title \"Attention is all you need\" paper\")"
   ]
  },
  {
   "cell_type": "code",
   "execution_count": 21,
   "metadata": {
    "executionInfo": {
     "elapsed": 931,
     "status": "ok",
     "timestamp": 1604164541547,
     "user": {
      "displayName": "Eduardo Muñoz Sala",
      "photoUrl": "https://lh3.googleusercontent.com/a-/AOh14Gi9gTFB7xfdxQyNiKRUzqE5vwb9WQjQuMtQz5F16w=s64",
      "userId": "13317831924226771761"
     },
     "user_tz": -60
    },
    "id": "GqvqNjJPwyh-"
   },
   "outputs": [],
   "source": [
    "class Transformer(tf.keras.Model):\n",
    "    \n",
    "    def __init__(self,\n",
    "                 vocab_size_enc,\n",
    "                 vocab_size_dec,\n",
    "                 d_model,\n",
    "                 n_layers,\n",
    "                 FFN_units,\n",
    "                 n_heads,\n",
    "                 dropout_rate,\n",
    "                 name=\"transformer\"):\n",
    "        super(Transformer, self).__init__(name=name)\n",
    "        # Build the encoder\n",
    "        self.encoder = Encoder(n_layers,\n",
    "                               FFN_units,\n",
    "                               n_heads,\n",
    "                               dropout_rate,\n",
    "                               vocab_size_enc,\n",
    "                               d_model)\n",
    "        # Build the decoder\n",
    "        self.decoder = Decoder(n_layers,\n",
    "                               FFN_units,\n",
    "                               n_heads,\n",
    "                               dropout_rate,\n",
    "                               vocab_size_dec,\n",
    "                               d_model)\n",
    "        # build the linear transformation and softmax function\n",
    "        self.last_linear = layers.Dense(units=vocab_size_dec, name=\"lin_ouput\")\n",
    "    \n",
    "    def create_padding_mask(self, seq): #seq: (batch_size, seq_length)\n",
    "        # Create the mask for padding\n",
    "        mask = tf.cast(tf.math.equal(seq, 0), tf.float32)\n",
    "        return mask[:, tf.newaxis, tf.newaxis, :]\n",
    "\n",
    "    def create_look_ahead_mask(self, seq):\n",
    "        # Create the mask for the causal attention\n",
    "        seq_len = tf.shape(seq)[1]\n",
    "        look_ahead_mask = 1 - tf.linalg.band_part(tf.ones((seq_len, seq_len)), -1, 0)\n",
    "        return look_ahead_mask\n",
    "    \n",
    "    def call(self, enc_inputs, dec_inputs, training):\n",
    "        # Create the padding mask for the encoder\n",
    "        enc_mask = self.create_padding_mask(enc_inputs)\n",
    "        # Create the mask for the causal attention\n",
    "        dec_mask_1 = tf.maximum(\n",
    "            self.create_padding_mask(dec_inputs),\n",
    "            self.create_look_ahead_mask(dec_inputs)\n",
    "        )\n",
    "        # Create the mask for the encoder-decoder attention\n",
    "        dec_mask_2 = self.create_padding_mask(enc_inputs)\n",
    "        # Call the encoder\n",
    "        enc_outputs = self.encoder(enc_inputs, enc_mask, training)\n",
    "        # Call the decoder\n",
    "        dec_outputs = self.decoder(dec_inputs,\n",
    "                                   enc_outputs,\n",
    "                                   dec_mask_1,\n",
    "                                   dec_mask_2,\n",
    "                                   training)\n",
    "        # Call the Linear and Softmax functions\n",
    "        outputs = self.last_linear(dec_outputs)\n",
    "        \n",
    "        return outputs"
   ]
  },
  {
   "cell_type": "markdown",
   "metadata": {
    "id": "4XdnNmy_uEfE"
   },
   "source": [
    "It is worth mentioning that we create 3 masks, each of which will allow us:\n",
    "- *Encoder mask*: It is a padding mask to discard the pad tokens from the attention calculation.\n",
    "- *Decoder mask 1*: this mask is a union of the padding mask and the look ahead mask which will help the causal attention to discard the tokens \"in the future\". We take the maximum value between the padding mask and the look ahead one.\n",
    "- *Decoder mask 2*: it is the padding mask and is applied in the encoder-decoder attention layer.\n",
    "\n",
    "As you can see then we call the encoder, the decoder and the final linear-softmax layer to get the predicted output from our Transformer model."
   ]
  },
  {
   "cell_type": "markdown",
   "metadata": {
    "id": "-c-LRThUPrso"
   },
   "source": [
    "# Training the Transformer model\n",
    "Now that we have described in detail the components in the paper we are ready to implement them and train a transformer model on a NMT problem. It is a toy problem for educational purposes.\n",
    "\n",
    "We need to create a custom loss function to mask the padding tokens and we define the Adam optimizer described in the paper, with beta1 = 0.9, beta2 = 0.98 and epsilon= 10e-9. And then we create a scheduler to vary the learning rate over the training process according to:\n",
    "\n",
    "$lrate = d_{model}^{-0.5}*min(step\\_num^{-0.5}, step\\_num*warmup\\_steps^{-1.5})$\n"
   ]
  },
  {
   "cell_type": "code",
   "execution_count": 22,
   "metadata": {
    "executionInfo": {
     "elapsed": 935,
     "status": "ok",
     "timestamp": 1604164546949,
     "user": {
      "displayName": "Eduardo Muñoz Sala",
      "photoUrl": "https://lh3.googleusercontent.com/a-/AOh14Gi9gTFB7xfdxQyNiKRUzqE5vwb9WQjQuMtQz5F16w=s64",
      "userId": "13317831924226771761"
     },
     "user_tz": -60
    },
    "id": "AM6zndzkAxC0"
   },
   "outputs": [],
   "source": [
    "def loss_function(target, pred):\n",
    "    mask = tf.math.logical_not(tf.math.equal(target, 0))\n",
    "    loss_ = loss_object(target, pred)\n",
    "    \n",
    "    mask = tf.cast(mask, dtype=loss_.dtype)\n",
    "    loss_ *= mask\n",
    "    \n",
    "    return tf.reduce_mean(loss_)\n",
    "\n",
    "class CustomSchedule(tf.keras.optimizers.schedules.LearningRateSchedule):\n",
    "    \n",
    "    def __init__(self, d_model, warmup_steps=4000):\n",
    "        super(CustomSchedule, self).__init__()\n",
    "        \n",
    "        self.d_model = tf.cast(d_model, tf.float32)\n",
    "        self.warmup_steps = warmup_steps\n",
    "    \n",
    "    def __call__(self, step):\n",
    "        arg1 = tf.math.rsqrt(step)\n",
    "        arg2 = step * (self.warmup_steps**-1.5)\n",
    "        \n",
    "        return tf.math.rsqrt(self.d_model) * tf.math.minimum(arg1, arg2)\n"
   ]
  },
  {
   "cell_type": "markdown",
   "metadata": {
    "id": "xGarg37Fo36b"
   },
   "source": [
    "And that's all, we have all the necessary elements to train our model using an usual loop for sequence-to-sequence tasks:\n",
    "- For every iteration on the batch generator that produce batch size inputs and outputs\n",
    "- Get the input sequence from 0 to length-1 and the actual outputs from 1 to length, the next word expected at every sequence step.\n",
    "- Call the transformer to get the predictions\n",
    "- Calculate the loss function between the real outputs and the predictions\n",
    "- Apply the gradients to update the weights in the model\n",
    "- Calculate the mean loss and the accuracy for the batch data\n",
    "- Show some results and save the model in every epoch"
   ]
  },
  {
   "cell_type": "code",
   "execution_count": 23,
   "metadata": {
    "executionInfo": {
     "elapsed": 1004,
     "status": "ok",
     "timestamp": 1604164550739,
     "user": {
      "displayName": "Eduardo Muñoz Sala",
      "photoUrl": "https://lh3.googleusercontent.com/a-/AOh14Gi9gTFB7xfdxQyNiKRUzqE5vwb9WQjQuMtQz5F16w=s64",
      "userId": "13317831924226771761"
     },
     "user_tz": -60
    },
    "id": "lhFK5kUx602K"
   },
   "outputs": [],
   "source": [
    "def main_train(dataset, transformer, n_epochs, print_every=50):\n",
    "  ''' Train the transformer model for n_epochs using the data generator dataset'''\n",
    "  losses = []\n",
    "  accuracies = []\n",
    "  # In every epoch\n",
    "  for epoch in range(n_epochs):\n",
    "    print(\"Starting epoch {}\".format(epoch+1))\n",
    "    start = time.time()\n",
    "    # Reset the losss and accuracy calculations\n",
    "    train_loss.reset_states()\n",
    "    train_accuracy.reset_states()\n",
    "    # Get a batch of inputs and targets\n",
    "    for (batch, (enc_inputs, targets)) in enumerate(dataset):\n",
    "        # Set the decoder inputs\n",
    "        dec_inputs = targets[:, :-1]\n",
    "        # Set the target outputs, right shifted\n",
    "        dec_outputs_real = targets[:, 1:]\n",
    "        with tf.GradientTape() as tape:\n",
    "            # Call the transformer and get the predicted output\n",
    "            predictions = transformer(enc_inputs, dec_inputs, True)\n",
    "            # Calculate the loss\n",
    "            loss = loss_function(dec_outputs_real, predictions)\n",
    "        # Update the weights and optimizer\n",
    "        gradients = tape.gradient(loss, transformer.trainable_variables)\n",
    "        optimizer.apply_gradients(zip(gradients, transformer.trainable_variables))\n",
    "        # Save and store the metrics\n",
    "        train_loss(loss)\n",
    "        train_accuracy(dec_outputs_real, predictions)\n",
    "        \n",
    "        if batch % print_every == 0:\n",
    "            losses.append(train_loss.result())\n",
    "            accuracies.append(train_accuracy.result())\n",
    "            print(\"Epoch {} Batch {} Loss {:.4f} Accuracy {:.4f}\".format(\n",
    "                epoch+1, batch, train_loss.result(), train_accuracy.result()))\n",
    "            \n",
    "    # Checkpoint the model on every epoch        \n",
    "    ckpt_save_path = ckpt_manager.save()\n",
    "    print(\"Saving checkpoint for epoch {} in {}\".format(epoch+1,\n",
    "                                                        ckpt_save_path))\n",
    "    print(\"Time for 1 epoch: {} secs\\n\".format(time.time() - start))\n",
    "\n",
    "  return losses, accuracies"
   ]
  },
  {
   "cell_type": "markdown",
   "metadata": {
    "id": "hLqH4ksXJHPu"
   },
   "source": [
    "Setting the hyperparameters and parameters of the model and training process:"
   ]
  },
  {
   "cell_type": "code",
   "execution_count": 24,
   "metadata": {
    "executionInfo": {
     "elapsed": 1309,
     "status": "ok",
     "timestamp": 1604164555141,
     "user": {
      "displayName": "Eduardo Muñoz Sala",
      "photoUrl": "https://lh3.googleusercontent.com/a-/AOh14Gi9gTFB7xfdxQyNiKRUzqE5vwb9WQjQuMtQz5F16w=s64",
      "userId": "13317831924226771761"
     },
     "user_tz": -60
    },
    "id": "QGmrQfakTKUV"
   },
   "outputs": [],
   "source": [
    "# Set hyperparamters for the model\n",
    "D_MODEL = 512 # 512\n",
    "N_LAYERS = 4 # 6\n",
    "FFN_UNITS = 512 # 2048\n",
    "N_HEADS = 8 # 8\n",
    "DROPOUT_RATE = 0.1 # 0.1\n"
   ]
  },
  {
   "cell_type": "markdown",
   "metadata": {
    "id": "0hCk9aUDqaMo"
   },
   "source": [
    "Now we define and create all the elements to train the model and evaluate it."
   ]
  },
  {
   "cell_type": "code",
   "execution_count": 25,
   "metadata": {
    "executionInfo": {
     "elapsed": 888,
     "status": "ok",
     "timestamp": 1604164565188,
     "user": {
      "displayName": "Eduardo Muñoz Sala",
      "photoUrl": "https://lh3.googleusercontent.com/a-/AOh14Gi9gTFB7xfdxQyNiKRUzqE5vwb9WQjQuMtQz5F16w=s64",
      "userId": "13317831924226771761"
     },
     "user_tz": -60
    },
    "id": "qiOdqQ5qPs8z"
   },
   "outputs": [],
   "source": [
    "# Clean the session\n",
    "tf.keras.backend.clear_session()\n",
    "# Create the Transformer model\n",
    "transformer = Transformer(vocab_size_enc=num_words_inputs,\n",
    "                          vocab_size_dec=num_words_output,\n",
    "                          d_model=D_MODEL,\n",
    "                          n_layers=N_LAYERS,\n",
    "                          FFN_units=FFN_UNITS,\n",
    "                          n_heads=N_HEADS,\n",
    "                          dropout_rate=DROPOUT_RATE)\n",
    "\n",
    "# Define a categorical cross entropy loss\n",
    "loss_object = tf.keras.losses.SparseCategoricalCrossentropy(from_logits=True,\n",
    "                                                            reduction=\"none\")\n",
    "# Define a metric to store the mean loss of every epoch\n",
    "train_loss = tf.keras.metrics.Mean(name=\"train_loss\")\n",
    "# Define a matric to save the accuracy in every epoch\n",
    "train_accuracy = tf.keras.metrics.SparseCategoricalAccuracy(name=\"train_accuracy\")\n",
    "# Create the scheduler for learning rate decay\n",
    "leaning_rate = CustomSchedule(D_MODEL)\n",
    "# Create the Adam optimizer\n",
    "optimizer = tf.keras.optimizers.Adam(leaning_rate,\n",
    "                                     beta_1=0.9,\n",
    "                                     beta_2=0.98,\n",
    "                                     epsilon=1e-9)\n",
    "        "
   ]
  },
  {
   "cell_type": "markdown",
   "metadata": {
    "id": "wTgnNJbprCdT"
   },
   "source": [
    "It is very useful to checkpoint and save our model during training. Training can take a lot of time and we can restore the model for future training or use."
   ]
  },
  {
   "cell_type": "code",
   "execution_count": 26,
   "metadata": {
    "executionInfo": {
     "elapsed": 1883,
     "status": "ok",
     "timestamp": 1604164597668,
     "user": {
      "displayName": "Eduardo Muñoz Sala",
      "photoUrl": "https://lh3.googleusercontent.com/a-/AOh14Gi9gTFB7xfdxQyNiKRUzqE5vwb9WQjQuMtQz5F16w=s64",
      "userId": "13317831924226771761"
     },
     "user_tz": -60
    },
    "id": "Nb_32PIU5Zkh"
   },
   "outputs": [],
   "source": [
    "#Create the Checkpoint \n",
    "ckpt = tf.train.Checkpoint(transformer=transformer,\n",
    "                           optimizer=optimizer)\n",
    "\n",
    "ckpt_manager = tf.train.CheckpointManager(ckpt, checkpoint_path, max_to_keep=5)\n",
    "\n",
    "if ckpt_manager.latest_checkpoint:\n",
    "    ckpt.restore(ckpt_manager.latest_checkpoint)\n",
    "    print(\"Last checkpoint restored.\")"
   ]
  },
  {
   "cell_type": "code",
   "execution_count": 27,
   "metadata": {
    "colab": {
     "base_uri": "https://localhost:8080/"
    },
    "executionInfo": {
     "elapsed": 4836773,
     "status": "ok",
     "timestamp": 1604169439296,
     "user": {
      "displayName": "Eduardo Muñoz Sala",
      "photoUrl": "https://lh3.googleusercontent.com/a-/AOh14Gi9gTFB7xfdxQyNiKRUzqE5vwb9WQjQuMtQz5F16w=s64",
      "userId": "13317831924226771761"
     },
     "user_tz": -60
    },
    "id": "ND0NAyshNWHD",
    "outputId": "14be75e6-f9a6-48d4-e248-0550dc859343"
   },
   "outputs": [
    {
     "name": "stdout",
     "output_type": "stream",
     "text": [
      "Starting epoch 1\n",
      "Epoch 1 Batch 0 Loss 4.7359 Accuracy 0.0000\n",
      "Epoch 1 Batch 100 Loss 4.6680 Accuracy 0.0530\n",
      "Epoch 1 Batch 200 Loss 4.3400 Accuracy 0.0824\n",
      "Epoch 1 Batch 300 Loss 3.9776 Accuracy 0.1032\n",
      "Epoch 1 Batch 400 Loss 3.6847 Accuracy 0.1182\n",
      "Epoch 1 Batch 500 Loss 3.4673 Accuracy 0.1302\n",
      "Epoch 1 Batch 600 Loss 3.2969 Accuracy 0.1401\n",
      "Epoch 1 Batch 700 Loss 3.1606 Accuracy 0.1487\n",
      "Epoch 1 Batch 800 Loss 3.0452 Accuracy 0.1566\n",
      "Epoch 1 Batch 900 Loss 2.9457 Accuracy 0.1637\n",
      "Epoch 1 Batch 1000 Loss 2.8575 Accuracy 0.1702\n",
      "Epoch 1 Batch 1100 Loss 2.7813 Accuracy 0.1757\n",
      "Epoch 1 Batch 1200 Loss 2.7106 Accuracy 0.1810\n",
      "Saving checkpoint for epoch 1 in /content/drive/My Drive/Projects/Transformer_NMT/ckpt/ckpt-1\n",
      "Time for 1 epoch: 508.13360619544983 secs\n",
      "\n",
      "Starting epoch 2\n",
      "Epoch 2 Batch 0 Loss 1.8356 Accuracy 0.2533\n",
      "Epoch 2 Batch 100 Loss 1.8220 Accuracy 0.2488\n",
      "Epoch 2 Batch 200 Loss 1.7898 Accuracy 0.2517\n",
      "Epoch 2 Batch 300 Loss 1.7732 Accuracy 0.2539\n",
      "Epoch 2 Batch 400 Loss 1.7554 Accuracy 0.2555\n",
      "Epoch 2 Batch 500 Loss 1.7384 Accuracy 0.2574\n",
      "Epoch 2 Batch 600 Loss 1.7187 Accuracy 0.2592\n",
      "Epoch 2 Batch 700 Loss 1.7027 Accuracy 0.2615\n",
      "Epoch 2 Batch 800 Loss 1.6836 Accuracy 0.2641\n",
      "Epoch 2 Batch 900 Loss 1.6639 Accuracy 0.2665\n",
      "Epoch 2 Batch 1000 Loss 1.6464 Accuracy 0.2686\n",
      "Epoch 2 Batch 1100 Loss 1.6307 Accuracy 0.2706\n",
      "Epoch 2 Batch 1200 Loss 1.6130 Accuracy 0.2728\n",
      "Saving checkpoint for epoch 2 in /content/drive/My Drive/Projects/Transformer_NMT/ckpt/ckpt-2\n",
      "Time for 1 epoch: 496.16912508010864 secs\n",
      "\n",
      "Starting epoch 3\n",
      "Epoch 3 Batch 0 Loss 1.2504 Accuracy 0.3158\n",
      "Epoch 3 Batch 100 Loss 1.3001 Accuracy 0.3075\n",
      "Epoch 3 Batch 200 Loss 1.2939 Accuracy 0.3085\n",
      "Epoch 3 Batch 300 Loss 1.2985 Accuracy 0.3088\n",
      "Epoch 3 Batch 400 Loss 1.2915 Accuracy 0.3096\n",
      "Epoch 3 Batch 500 Loss 1.2868 Accuracy 0.3103\n",
      "Epoch 3 Batch 600 Loss 1.2827 Accuracy 0.3107\n",
      "Epoch 3 Batch 700 Loss 1.2791 Accuracy 0.3117\n",
      "Epoch 3 Batch 800 Loss 1.2731 Accuracy 0.3121\n",
      "Epoch 3 Batch 900 Loss 1.2675 Accuracy 0.3128\n",
      "Epoch 3 Batch 1000 Loss 1.2633 Accuracy 0.3134\n",
      "Epoch 3 Batch 1100 Loss 1.2607 Accuracy 0.3138\n",
      "Epoch 3 Batch 1200 Loss 1.2589 Accuracy 0.3141\n",
      "Saving checkpoint for epoch 3 in /content/drive/My Drive/Projects/Transformer_NMT/ckpt/ckpt-3\n",
      "Time for 1 epoch: 488.9535298347473 secs\n",
      "\n",
      "Starting epoch 4\n",
      "Epoch 4 Batch 0 Loss 1.3869 Accuracy 0.3181\n",
      "Epoch 4 Batch 100 Loss 1.0897 Accuracy 0.3291\n",
      "Epoch 4 Batch 200 Loss 1.1142 Accuracy 0.3268\n",
      "Epoch 4 Batch 300 Loss 1.1265 Accuracy 0.3261\n",
      "Epoch 4 Batch 400 Loss 1.1285 Accuracy 0.3256\n",
      "Epoch 4 Batch 500 Loss 1.1347 Accuracy 0.3255\n",
      "Epoch 4 Batch 600 Loss 1.1360 Accuracy 0.3253\n",
      "Epoch 4 Batch 700 Loss 1.1365 Accuracy 0.3254\n",
      "Epoch 4 Batch 800 Loss 1.1362 Accuracy 0.3258\n",
      "Epoch 4 Batch 900 Loss 1.1368 Accuracy 0.3260\n",
      "Epoch 4 Batch 1000 Loss 1.1357 Accuracy 0.3264\n",
      "Epoch 4 Batch 1100 Loss 1.1346 Accuracy 0.3266\n",
      "Epoch 4 Batch 1200 Loss 1.1334 Accuracy 0.3269\n",
      "Saving checkpoint for epoch 4 in /content/drive/My Drive/Projects/Transformer_NMT/ckpt/ckpt-4\n",
      "Time for 1 epoch: 479.5311484336853 secs\n",
      "\n",
      "Starting epoch 5\n",
      "Epoch 5 Batch 0 Loss 1.1191 Accuracy 0.3214\n",
      "Epoch 5 Batch 100 Loss 0.9881 Accuracy 0.3438\n",
      "Epoch 5 Batch 200 Loss 0.9997 Accuracy 0.3424\n",
      "Epoch 5 Batch 300 Loss 1.0053 Accuracy 0.3421\n",
      "Epoch 5 Batch 400 Loss 1.0054 Accuracy 0.3424\n",
      "Epoch 5 Batch 500 Loss 1.0052 Accuracy 0.3422\n",
      "Epoch 5 Batch 600 Loss 1.0092 Accuracy 0.3417\n",
      "Epoch 5 Batch 700 Loss 1.0098 Accuracy 0.3419\n",
      "Epoch 5 Batch 800 Loss 1.0125 Accuracy 0.3417\n",
      "Epoch 5 Batch 900 Loss 1.0134 Accuracy 0.3417\n",
      "Epoch 5 Batch 1000 Loss 1.0121 Accuracy 0.3417\n",
      "Epoch 5 Batch 1100 Loss 1.0120 Accuracy 0.3420\n",
      "Epoch 5 Batch 1200 Loss 1.0117 Accuracy 0.3420\n",
      "Saving checkpoint for epoch 5 in /content/drive/My Drive/Projects/Transformer_NMT/ckpt/ckpt-5\n",
      "Time for 1 epoch: 476.9857404232025 secs\n",
      "\n",
      "Starting epoch 6\n",
      "Epoch 6 Batch 0 Loss 0.9588 Accuracy 0.3538\n",
      "Epoch 6 Batch 100 Loss 0.8943 Accuracy 0.3525\n",
      "Epoch 6 Batch 200 Loss 0.8968 Accuracy 0.3547\n",
      "Epoch 6 Batch 300 Loss 0.9077 Accuracy 0.3546\n",
      "Epoch 6 Batch 400 Loss 0.9101 Accuracy 0.3543\n",
      "Epoch 6 Batch 500 Loss 0.9142 Accuracy 0.3540\n",
      "Epoch 6 Batch 600 Loss 0.9183 Accuracy 0.3535\n",
      "Epoch 6 Batch 700 Loss 0.9226 Accuracy 0.3533\n",
      "Epoch 6 Batch 800 Loss 0.9242 Accuracy 0.3532\n",
      "Epoch 6 Batch 900 Loss 0.9246 Accuracy 0.3532\n",
      "Epoch 6 Batch 1000 Loss 0.9250 Accuracy 0.3531\n",
      "Epoch 6 Batch 1100 Loss 0.9268 Accuracy 0.3531\n",
      "Epoch 6 Batch 1200 Loss 0.9281 Accuracy 0.3531\n",
      "Saving checkpoint for epoch 6 in /content/drive/My Drive/Projects/Transformer_NMT/ckpt/ckpt-6\n",
      "Time for 1 epoch: 476.99894547462463 secs\n",
      "\n",
      "Starting epoch 7\n",
      "Epoch 7 Batch 0 Loss 0.9244 Accuracy 0.3571\n",
      "Epoch 7 Batch 100 Loss 0.8027 Accuracy 0.3686\n",
      "Epoch 7 Batch 200 Loss 0.8253 Accuracy 0.3665\n",
      "Epoch 7 Batch 300 Loss 0.8329 Accuracy 0.3649\n",
      "Epoch 7 Batch 400 Loss 0.8385 Accuracy 0.3641\n",
      "Epoch 7 Batch 500 Loss 0.8436 Accuracy 0.3632\n",
      "Epoch 7 Batch 600 Loss 0.8465 Accuracy 0.3625\n",
      "Epoch 7 Batch 700 Loss 0.8498 Accuracy 0.3623\n",
      "Epoch 7 Batch 800 Loss 0.8531 Accuracy 0.3621\n",
      "Epoch 7 Batch 900 Loss 0.8529 Accuracy 0.3618\n",
      "Epoch 7 Batch 1000 Loss 0.8545 Accuracy 0.3618\n",
      "Epoch 7 Batch 1100 Loss 0.8575 Accuracy 0.3616\n",
      "Epoch 7 Batch 1200 Loss 0.8604 Accuracy 0.3616\n",
      "Saving checkpoint for epoch 7 in /content/drive/My Drive/Projects/Transformer_NMT/ckpt/ckpt-7\n",
      "Time for 1 epoch: 476.37826561927795 secs\n",
      "\n",
      "Starting epoch 8\n",
      "Epoch 8 Batch 0 Loss 0.6250 Accuracy 0.3906\n",
      "Epoch 8 Batch 100 Loss 0.7504 Accuracy 0.3701\n",
      "Epoch 8 Batch 200 Loss 0.7584 Accuracy 0.3705\n",
      "Epoch 8 Batch 300 Loss 0.7593 Accuracy 0.3711\n",
      "Epoch 8 Batch 400 Loss 0.7657 Accuracy 0.3713\n",
      "Epoch 8 Batch 500 Loss 0.7724 Accuracy 0.3711\n",
      "Epoch 8 Batch 600 Loss 0.7806 Accuracy 0.3708\n",
      "Epoch 8 Batch 700 Loss 0.7855 Accuracy 0.3705\n",
      "Epoch 8 Batch 800 Loss 0.7925 Accuracy 0.3701\n",
      "Epoch 8 Batch 900 Loss 0.7977 Accuracy 0.3697\n",
      "Epoch 8 Batch 1000 Loss 0.8015 Accuracy 0.3696\n",
      "Epoch 8 Batch 1100 Loss 0.8062 Accuracy 0.3693\n",
      "Epoch 8 Batch 1200 Loss 0.8082 Accuracy 0.3691\n",
      "Saving checkpoint for epoch 8 in /content/drive/My Drive/Projects/Transformer_NMT/ckpt/ckpt-8\n",
      "Time for 1 epoch: 476.7389974594116 secs\n",
      "\n",
      "Starting epoch 9\n",
      "Epoch 9 Batch 0 Loss 0.7808 Accuracy 0.3571\n",
      "Epoch 9 Batch 100 Loss 0.6965 Accuracy 0.3805\n",
      "Epoch 9 Batch 200 Loss 0.7069 Accuracy 0.3792\n",
      "Epoch 9 Batch 300 Loss 0.7119 Accuracy 0.3797\n",
      "Epoch 9 Batch 400 Loss 0.7249 Accuracy 0.3789\n",
      "Epoch 9 Batch 500 Loss 0.7307 Accuracy 0.3789\n",
      "Epoch 9 Batch 600 Loss 0.7343 Accuracy 0.3782\n",
      "Epoch 9 Batch 700 Loss 0.7381 Accuracy 0.3779\n",
      "Epoch 9 Batch 800 Loss 0.7425 Accuracy 0.3773\n",
      "Epoch 9 Batch 900 Loss 0.7465 Accuracy 0.3770\n",
      "Epoch 9 Batch 1000 Loss 0.7512 Accuracy 0.3767\n",
      "Epoch 9 Batch 1100 Loss 0.7553 Accuracy 0.3762\n",
      "Epoch 9 Batch 1200 Loss 0.7588 Accuracy 0.3760\n",
      "Saving checkpoint for epoch 9 in /content/drive/My Drive/Projects/Transformer_NMT/ckpt/ckpt-9\n",
      "Time for 1 epoch: 475.674427986145 secs\n",
      "\n",
      "Starting epoch 10\n",
      "Epoch 10 Batch 0 Loss 0.7109 Accuracy 0.3973\n",
      "Epoch 10 Batch 100 Loss 0.6622 Accuracy 0.3855\n",
      "Epoch 10 Batch 200 Loss 0.6659 Accuracy 0.3854\n",
      "Epoch 10 Batch 300 Loss 0.6762 Accuracy 0.3844\n",
      "Epoch 10 Batch 400 Loss 0.6849 Accuracy 0.3838\n",
      "Epoch 10 Batch 500 Loss 0.6894 Accuracy 0.3835\n",
      "Epoch 10 Batch 600 Loss 0.6959 Accuracy 0.3832\n",
      "Epoch 10 Batch 700 Loss 0.7005 Accuracy 0.3827\n",
      "Epoch 10 Batch 800 Loss 0.7048 Accuracy 0.3822\n",
      "Epoch 10 Batch 900 Loss 0.7100 Accuracy 0.3817\n",
      "Epoch 10 Batch 1000 Loss 0.7131 Accuracy 0.3815\n",
      "Epoch 10 Batch 1100 Loss 0.7172 Accuracy 0.3814\n",
      "Epoch 10 Batch 1200 Loss 0.7207 Accuracy 0.3812\n",
      "Saving checkpoint for epoch 10 in /content/drive/My Drive/Projects/Transformer_NMT/ckpt/ckpt-10\n",
      "Time for 1 epoch: 480.2911014556885 secs\n",
      "\n"
     ]
    }
   ],
   "source": [
    "# Train the model\n",
    "losses, accuracies = main_train(dataset, transformer, EPOCHS, 100)"
   ]
  },
  {
   "cell_type": "markdown",
   "metadata": {
    "id": "nmzyRwDrRGdq"
   },
   "source": [
    "## Show some results from training"
   ]
  },
  {
   "cell_type": "code",
   "execution_count": 28,
   "metadata": {
    "colab": {
     "base_uri": "https://localhost:8080/",
     "height": 336
    },
    "executionInfo": {
     "elapsed": 1126,
     "status": "ok",
     "timestamp": 1604169624585,
     "user": {
      "displayName": "Eduardo Muñoz Sala",
      "photoUrl": "https://lh3.googleusercontent.com/a-/AOh14Gi9gTFB7xfdxQyNiKRUzqE5vwb9WQjQuMtQz5F16w=s64",
      "userId": "13317831924226771761"
     },
     "user_tz": -60
    },
    "id": "hGB3Lv7hthlL",
    "outputId": "6259aaab-db55-4455-ba13-5123b33ffff4"
   },
   "outputs": [
    {
     "data": {
      "image/png": "[encoded data removed]",
      "text/plain": [
       "<Figure size 1080x360 with 2 Axes>"
      ]
     },
     "metadata": {
      "needs_background": "light",
      "tags": []
     },
     "output_type": "display_data"
    }
   ],
   "source": [
    "fig, (ax1, ax2) = plt.subplots(1, 2, figsize=(15,5))\n",
    "# plot some data\n",
    "ax1.plot(losses, label='loss')\n",
    "#plt.plot(results.history['val_loss'], label='val_loss')\n",
    "ax1.set_title('Training Loss')\n",
    "ax1.legend()\n",
    "# accuracies\n",
    "ax2.plot(accuracies, label='acc')\n",
    "#plt.plot(results.history['val_accuracy_fn'], label='val_acc')\n",
    "ax2.set_title('Training Accuracy')\n",
    "ax2.legend()\n",
    "plt.show()"
   ]
  },
  {
   "cell_type": "markdown",
   "metadata": {
    "id": "wnfIU53_0oQi"
   },
   "source": [
    "# Make predictions\n",
    "\n",
    "We have seen the scores obtained after training but what we are interested in making predictions and see how the model works with new sentences. The predict function will input a tokenize sentence to the model and return the predicted new sentence, in our example, a translation from english to spanish. \n",
    "- Tokenize the input sentence to a sequence of tokens\n",
    "- Set the initial output sequence to the SOS token\n",
    "- Until we reach the max length or the eos token is returned by the model\n",
    "- Get the next word predicted. The model returns the logits, remember that the softmax function is applied in the loss calculation.\n",
    "- Get the index in the vocabulary of the word with the highest probability\n",
    "- Concat the next word predicted to the output sequence"
   ]
  },
  {
   "cell_type": "code",
   "execution_count": 29,
   "metadata": {
    "executionInfo": {
     "elapsed": 911,
     "status": "ok",
     "timestamp": 1604169631392,
     "user": {
      "displayName": "Eduardo Muñoz Sala",
      "photoUrl": "https://lh3.googleusercontent.com/a-/AOh14Gi9gTFB7xfdxQyNiKRUzqE5vwb9WQjQuMtQz5F16w=s64",
      "userId": "13317831924226771761"
     },
     "user_tz": -60
    },
    "id": "a6iJ7tPC-pk-"
   },
   "outputs": [],
   "source": [
    "def predict(inp_sentence, tokenizer_in, tokenizer_out, target_max_len):\n",
    "    # Tokenize the input sequence using the tokenizer_in\n",
    "    inp_sentence = sos_token_input + tokenizer_in.encode(inp_sentence) + eos_token_input\n",
    "    enc_input = tf.expand_dims(inp_sentence, axis=0)\n",
    "\n",
    "    # Set the initial output sentence to sos\n",
    "    out_sentence = sos_token_output\n",
    "    # Reshape the output\n",
    "    output = tf.expand_dims(out_sentence, axis=0)\n",
    "\n",
    "    # For max target len tokens\n",
    "    for _ in range(target_max_len):\n",
    "        # Call the transformer and get the logits \n",
    "        predictions = transformer(enc_input, output, False) #(1, seq_length, VOCAB_SIZE_ES)\n",
    "        # Extract the logists of the next word\n",
    "        prediction = predictions[:, -1:, :]\n",
    "        # The highest probability is taken\n",
    "        predicted_id = tf.cast(tf.argmax(prediction, axis=-1), tf.int32)\n",
    "        # Check if it is the eos token\n",
    "        if predicted_id == eos_token_output:\n",
    "            return tf.squeeze(output, axis=0)\n",
    "        # Concat the predicted word to the output sequence\n",
    "        output = tf.concat([output, predicted_id], axis=-1)\n",
    "\n",
    "    return tf.squeeze(output, axis=0)"
   ]
  },
  {
   "cell_type": "markdown",
   "metadata": {
    "id": "ECKNvSxUqoow"
   },
   "source": [
    "And finally our last function receives a sentence in english, calls the transformer to translate it to spanish and shows the result"
   ]
  },
  {
   "cell_type": "code",
   "execution_count": 30,
   "metadata": {
    "executionInfo": {
     "elapsed": 961,
     "status": "ok",
     "timestamp": 1604169634817,
     "user": {
      "displayName": "Eduardo Muñoz Sala",
      "photoUrl": "https://lh3.googleusercontent.com/a-/AOh14Gi9gTFB7xfdxQyNiKRUzqE5vwb9WQjQuMtQz5F16w=s64",
      "userId": "13317831924226771761"
     },
     "user_tz": -60
    },
    "id": "s6VeFKrE6Kdx"
   },
   "outputs": [],
   "source": [
    "def translate(sentence):\n",
    "    # Get the predicted sequence for the input sentence\n",
    "    output = predict(sentence, tokenizer_inputs, tokenizer_outputs, MAX_LENGTH).numpy()\n",
    "    # Transform the sequence of tokens to a sentence\n",
    "    predicted_sentence = tokenizer_outputs.decode(\n",
    "        [i for i in output if i < sos_token_output]\n",
    "    )\n",
    "\n",
    "    return predicted_sentence"
   ]
  },
  {
   "cell_type": "markdown",
   "metadata": {
    "id": "EDtGeTvXokpb"
   },
   "source": [
    "First, we explore the predictions on sentences of our training dataset:"
   ]
  },
  {
   "cell_type": "code",
   "execution_count": 31,
   "metadata": {
    "colab": {
     "base_uri": "https://localhost:8080/"
    },
    "executionInfo": {
     "elapsed": 1228,
     "status": "ok",
     "timestamp": 1604169639117,
     "user": {
      "displayName": "Eduardo Muñoz Sala",
      "photoUrl": "https://lh3.googleusercontent.com/a-/AOh14Gi9gTFB7xfdxQyNiKRUzqE5vwb9WQjQuMtQz5F16w=s64",
      "userId": "13317831924226771761"
     },
     "user_tz": -60
    },
    "id": "5rSkyBdTcY-5",
    "outputId": "23617a58-09c1-4a91-f86f-2cafeaef870b"
   },
   "outputs": [
    {
     "name": "stdout",
     "output_type": "stream",
     "text": [
      "Input sentence: you should pay for it.\n",
      "Output sentence: Deberías pagarlo.\n"
     ]
    }
   ],
   "source": [
    "#Show some translations\n",
    "sentence = \"you should pay for it.\"\n",
    "print(\"Input sentence: {}\".format(sentence))\n",
    "predicted_sentence = translate(sentence)\n",
    "print(\"Output sentence: {}\".format(predicted_sentence))"
   ]
  },
  {
   "cell_type": "code",
   "execution_count": 32,
   "metadata": {
    "colab": {
     "base_uri": "https://localhost:8080/"
    },
    "executionInfo": {
     "elapsed": 1387,
     "status": "ok",
     "timestamp": 1604169644539,
     "user": {
      "displayName": "Eduardo Muñoz Sala",
      "photoUrl": "https://lh3.googleusercontent.com/a-/AOh14Gi9gTFB7xfdxQyNiKRUzqE5vwb9WQjQuMtQz5F16w=s64",
      "userId": "13317831924226771761"
     },
     "user_tz": -60
    },
    "id": "AFTOO58Ncjiu",
    "outputId": "8e4b4473-0939-4f10-a954-8887b2168f0a"
   },
   "outputs": [
    {
     "name": "stdout",
     "output_type": "stream",
     "text": [
      "Input sentence: we have no extra money.\n",
      "Output sentence: No tenemos dinero extra.\n"
     ]
    }
   ],
   "source": [
    "#Show some translations\n",
    "sentence = \"we have no extra money.\"\n",
    "print(\"Input sentence: {}\".format(sentence))\n",
    "predicted_sentence = translate(sentence)\n",
    "print(\"Output sentence: {}\".format(predicted_sentence))"
   ]
  },
  {
   "cell_type": "markdown",
   "metadata": {
    "id": "tqIIbaB6ovZo"
   },
   "source": [
    "Next, let's predict some new sentences on diferent topics:"
   ]
  },
  {
   "cell_type": "code",
   "execution_count": 33,
   "metadata": {
    "colab": {
     "base_uri": "https://localhost:8080/"
    },
    "executionInfo": {
     "elapsed": 1765,
     "status": "ok",
     "timestamp": 1604169651613,
     "user": {
      "displayName": "Eduardo Muñoz Sala",
      "photoUrl": "https://lh3.googleusercontent.com/a-/AOh14Gi9gTFB7xfdxQyNiKRUzqE5vwb9WQjQuMtQz5F16w=s64",
      "userId": "13317831924226771761"
     },
     "user_tz": -60
    },
    "id": "BupFjJlgDvCA",
    "outputId": "a57b7102-4afe-4941-b087-d981de9ba4db"
   },
   "outputs": [
    {
     "name": "stdout",
     "output_type": "stream",
     "text": [
      "Input sentence: This is a problem to deal with.\n",
      "Output sentence: Este problema es un problema con eso.\n"
     ]
    }
   ],
   "source": [
    "#Show some translations\n",
    "sentence = \"This is a problem to deal with.\"\n",
    "print(\"Input sentence: {}\".format(sentence))\n",
    "predicted_sentence = translate(sentence)\n",
    "print(\"Output sentence: {}\".format(predicted_sentence))"
   ]
  },
  {
   "cell_type": "code",
   "execution_count": 34,
   "metadata": {
    "colab": {
     "base_uri": "https://localhost:8080/"
    },
    "executionInfo": {
     "elapsed": 1236,
     "status": "ok",
     "timestamp": 1604169658722,
     "user": {
      "displayName": "Eduardo Muñoz Sala",
      "photoUrl": "https://lh3.googleusercontent.com/a-/AOh14Gi9gTFB7xfdxQyNiKRUzqE5vwb9WQjQuMtQz5F16w=s64",
      "userId": "13317831924226771761"
     },
     "user_tz": -60
    },
    "id": "ZdoWKbCP7Czs",
    "outputId": "98fc6afc-576a-48a4-c9f9-6f4be871b870"
   },
   "outputs": [
    {
     "name": "stdout",
     "output_type": "stream",
     "text": [
      "Input sentence: This is a really powerful method!\n",
      "Output sentence: ¡Esto es un verdadero poderoso!\n"
     ]
    }
   ],
   "source": [
    "#Show some translations\n",
    "sentence = \"This is a really powerful method!\"\n",
    "print(\"Input sentence: {}\".format(sentence))\n",
    "predicted_sentence = translate(sentence)\n",
    "print(\"Output sentence: {}\".format(predicted_sentence))"
   ]
  },
  {
   "cell_type": "code",
   "execution_count": 35,
   "metadata": {
    "colab": {
     "base_uri": "https://localhost:8080/"
    },
    "executionInfo": {
     "elapsed": 1412,
     "status": "ok",
     "timestamp": 1604169665649,
     "user": {
      "displayName": "Eduardo Muñoz Sala",
      "photoUrl": "https://lh3.googleusercontent.com/a-/AOh14Gi9gTFB7xfdxQyNiKRUzqE5vwb9WQjQuMtQz5F16w=s64",
      "userId": "13317831924226771761"
     },
     "user_tz": -60
    },
    "id": "UGjBEb5WFMGt",
    "outputId": "bdf8d1f1-f827-4ef4-e69b-e6bfc0ed5538"
   },
   "outputs": [
    {
     "name": "stdout",
     "output_type": "stream",
     "text": [
      "Input sentence: This is an interesting course about Natural Language Processing\n",
      "Output sentence: Esta es una buena persona en la diez.\n"
     ]
    }
   ],
   "source": [
    "#Show some translations\n",
    "sentence = \"This is an interesting course about Natural Language Processing\"\n",
    "print(\"Input sentence: {}\".format(sentence))\n",
    "predicted_sentence = translate(sentence)\n",
    "print(\"Output sentence: {}\".format(predicted_sentence))"
   ]
  },
  {
   "cell_type": "code",
   "execution_count": null,
   "metadata": {
    "id": "k0I9rS5jdF6Y"
   },
   "outputs": [],
   "source": []
  }
 ],
 "metadata": {
  "colab": {
   "collapsed_sections": [],
   "machine_shape": "hm",
   "name": "Transformer-NMT-en-es.ipynb",
   "provenance": [
    {
     "file_id": "16JmM4d_Wc3Eh1-iyjkA5_kw8qLDDFhr2",
     "timestamp": 1602519669782
    },
    {
     "file_id": "1i4a26jVRVsAIfAGCe5pnl4l51B6GvjWs",
     "timestamp": 1595454386969
    },
    {
     "file_id": "17dOcF-VlAVBY0vzgqaANGQ4taSNc2Wp6",
     "timestamp": 1571411676663
    }
   ],
   "toc_visible": true
  },
  "kernelspec": {
   "display_name": "Python 3 (ipykernel)",
   "language": "python",
   "name": "python3"
  },
  "language_info": {
   "codemirror_mode": {
    "name": "ipython",
    "version": 3
   },
   "file_extension": ".py",
   "mimetype": "text/x-python",
   "name": "python",
   "nbconvert_exporter": "python",
   "pygments_lexer": "ipython3",
   "version": "3.10.9"
  }
 },
 "nbformat": 4,
 "nbformat_minor": 1
}
