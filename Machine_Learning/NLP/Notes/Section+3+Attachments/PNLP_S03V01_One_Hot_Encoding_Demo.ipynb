{
 "cells": [
  {
   "cell_type": "code",
   "execution_count": null,
   "metadata": {
    "id": "dSTQznYAhhn-"
   },
   "outputs": [],
   "source": [
    "corpus = ['dog eats meat','man eats meat']"
   ]
  },
  {
   "cell_type": "code",
   "execution_count": null,
   "metadata": {
    "colab": {
     "base_uri": "https://localhost:8080/"
    },
    "id": "oN2jMPDPh0mE",
    "outputId": "619f6b78-e48f-4e68-cff6-efbfebde2da3"
   },
   "outputs": [
    {
     "name": "stdout",
     "output_type": "stream",
     "text": [
      "{'dog': 1, 'eats': 2, 'meat': 3, 'man': 4}\n"
     ]
    }
   ],
   "source": [
    "vocab = {}\n",
    "count = 0\n",
    "for doc in corpus:\n",
    "  for word in doc.split():\n",
    "    if word not in vocab:\n",
    "      count = count+1\n",
    "      vocab[word] = count\n",
    "print(vocab)"
   ]
  },
  {
   "cell_type": "code",
   "execution_count": null,
   "metadata": {
    "colab": {
     "base_uri": "https://localhost:8080/"
    },
    "id": "HGGaCMWsVxp1",
    "outputId": "fc88ec9d-e040-480e-da08-57bfa103904a"
   },
   "outputs": [
    {
     "data": {
      "text/plain": [
       "[0, 0, 0, 0]"
      ]
     },
     "execution_count": 22,
     "metadata": {},
     "output_type": "execute_result"
    }
   ],
   "source": [
    "l1 = [0]*4\n",
    "l1"
   ]
  },
  {
   "cell_type": "code",
   "execution_count": null,
   "metadata": {
    "colab": {
     "base_uri": "https://localhost:8080/"
    },
    "id": "ZK8yaliVV4tR",
    "outputId": "66e9c946-3f61-45ed-ad9d-3368540ac643"
   },
   "outputs": [
    {
     "data": {
      "text/plain": [
       "[1, 0, 0, 0]"
      ]
     },
     "execution_count": 23,
     "metadata": {},
     "output_type": "execute_result"
    }
   ],
   "source": [
    "l1[0] = 1 # indexing starts from zero\n",
    "l1"
   ]
  },
  {
   "cell_type": "code",
   "execution_count": null,
   "metadata": {
    "id": "O4qY2mXNiEg0"
   },
   "outputs": [],
   "source": [
    "def one_hot(doc):\n",
    "  one_hot = []\n",
    "  for word in doc.split():\n",
    "    temp = [0]*len(vocab)\n",
    "    if word in vocab:\n",
    "      temp[vocab[word]-1] = 1\n",
    "    one_hot.append(temp)\n",
    "  return one_hot"
   ]
  },
  {
   "cell_type": "code",
   "execution_count": null,
   "metadata": {
    "colab": {
     "base_uri": "https://localhost:8080/"
    },
    "id": "sqkSg-w9kK55",
    "outputId": "ca5198cc-5c2c-4c9b-e6d0-9e495ed42278"
   },
   "outputs": [
    {
     "data": {
      "text/plain": [
       "[[1, 0, 0, 0], [0, 1, 0, 0], [0, 0, 1, 0]]"
      ]
     },
     "execution_count": 25,
     "metadata": {},
     "output_type": "execute_result"
    }
   ],
   "source": [
    "one_hot(\"dog eats meat\")"
   ]
  },
  {
   "cell_type": "markdown",
   "metadata": {
    "id": "k7fc2vy2kZUH"
   },
   "source": [
    "# Scikit learn"
   ]
  },
  {
   "cell_type": "code",
   "execution_count": null,
   "metadata": {
    "id": "h9SE7tKykPup"
   },
   "outputs": [],
   "source": [
    "doc1 = \"dog bites meat\"\n",
    "doc2 = 'man eats meat'\n",
    "doc3 = 'dog bites man'"
   ]
  },
  {
   "cell_type": "code",
   "execution_count": null,
   "metadata": {
    "colab": {
     "base_uri": "https://localhost:8080/"
    },
    "id": "3QEGp_4FkwBg",
    "outputId": "9216d944-11df-449d-d4ce-98bb30bdfae7"
   },
   "outputs": [
    {
     "name": "stdout",
     "output_type": "stream",
     "text": [
      "My overall data: ['dog', 'bites', 'meat', 'man', 'eats', 'meat', 'dog', 'bites', 'man']\n"
     ]
    }
   ],
   "source": [
    "corpus = [doc1.split(),doc2.split(),doc3.split()]\n",
    "my_overall_data  = corpus[0] + corpus[1] + corpus[2] \n",
    "\n",
    "print(f\"My overall data: {my_overall_data}\")\n",
    "\n",
    "#implement Label Encoder\n",
    "from sklearn.preprocessing import LabelEncoder"
   ]
  },
  {
   "cell_type": "code",
   "execution_count": null,
   "metadata": {
    "colab": {
     "base_uri": "https://localhost:8080/"
    },
    "id": "oaYhJ1EjlR6c",
    "outputId": "19f63acb-4eee-4e43-a413-241154cda575"
   },
   "outputs": [
    {
     "name": "stdout",
     "output_type": "stream",
     "text": [
      "Integer Values are: [1 0 4 3 2 4 1 0 3]\n"
     ]
    }
   ],
   "source": [
    "le = LabelEncoder()\n",
    "integer_data = le.fit_transform(my_overall_data)\n",
    "print(f\"Integer Values are: {integer_data}\")"
   ]
  },
  {
   "cell_type": "code",
   "execution_count": null,
   "metadata": {
    "id": "jSnuXDVJmDvk"
   },
   "outputs": [],
   "source": [
    "doc1,doc2"
   ]
  },
  {
   "cell_type": "code",
   "execution_count": null,
   "metadata": {
    "colab": {
     "base_uri": "https://localhost:8080/"
    },
    "id": "7J7GxwQllcVC",
    "outputId": "46487baf-e8c5-4396-a210-63d1c90149d5"
   },
   "outputs": [
    {
     "data": {
      "text/plain": [
       "array([[1., 0., 1., 0., 0., 1.],\n",
       "       [0., 1., 0., 1., 0., 1.],\n",
       "       [1., 0., 1., 0., 1., 0.]])"
      ]
     },
     "execution_count": 29,
     "metadata": {},
     "output_type": "execute_result"
    }
   ],
   "source": [
    "from sklearn.preprocessing import OneHotEncoder\n",
    "one_hot_encoder = OneHotEncoder()\n",
    "one_hot_encoder.fit_transform(corpus).toarray()"
   ]
  },
  {
   "cell_type": "code",
   "execution_count": null,
   "metadata": {
    "colab": {
     "base_uri": "https://localhost:8080/"
    },
    "id": "w3795b81A4oW",
    "outputId": "abf91d93-198b-409f-f4f1-c7a5eb8c8d4f"
   },
   "outputs": [
    {
     "data": {
      "text/plain": [
       "array([[1., 0., 0., 1., 0., 1.]])"
      ]
     },
     "execution_count": 30,
     "metadata": {},
     "output_type": "execute_result"
    }
   ],
   "source": [
    "one_hot_encoder.transform([\"dog eats meat\".split()]).toarray()"
   ]
  },
  {
   "cell_type": "code",
   "execution_count": null,
   "metadata": {
    "id": "CRxIVHc4C1TW"
   },
   "outputs": [],
   "source": []
  }
 ],
 "metadata": {
  "colab": {
   "provenance": []
  },
  "kernelspec": {
   "display_name": "Python 3 (ipykernel)",
   "language": "python",
   "name": "python3"
  },
  "language_info": {
   "codemirror_mode": {
    "name": "ipython",
    "version": 3
   },
   "file_extension": ".py",
   "mimetype": "text/x-python",
   "name": "python",
   "nbconvert_exporter": "python",
   "pygments_lexer": "ipython3",
   "version": "3.10.9"
  }
 },
 "nbformat": 4,
 "nbformat_minor": 1
}
