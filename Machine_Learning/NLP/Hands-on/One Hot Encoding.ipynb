{
 "cells": [
  {
   "cell_type": "code",
   "execution_count": 1,
   "id": "2fd7c08d",
   "metadata": {},
   "outputs": [],
   "source": [
    "corpus = ['dog eats meat','man eats meat']"
   ]
  },
  {
   "cell_type": "code",
   "execution_count": 2,
   "id": "88bb2178",
   "metadata": {},
   "outputs": [
    {
     "name": "stdout",
     "output_type": "stream",
     "text": [
      "{'dog': 1, 'eats': 2, 'meat': 3, 'man': 4}\n"
     ]
    }
   ],
   "source": [
    "#Unique words\n",
    "vocab = {}\n",
    "count = 0\n",
    "for s in corpus:\n",
    "    for word in s.split():\n",
    "        if word not in vocab:\n",
    "            count += 1\n",
    "            vocab.update({word:count})\n",
    "print(vocab)"
   ]
  },
  {
   "cell_type": "code",
   "execution_count": 16,
   "id": "f5ac7394",
   "metadata": {},
   "outputs": [],
   "source": [
    "#One hot encoding\n",
    "def one_hot_encoding(text):\n",
    "    Encoding = []\n",
    "    for t in text.split():\n",
    "        temp = [0]*len(vocab)\n",
    "        if t in vocab:\n",
    "            temp[vocab[t]-1] = 1\n",
    "        Encoding.append(temp)\n",
    "    return Encoding"
   ]
  },
  {
   "cell_type": "code",
   "execution_count": 17,
   "id": "53385db5",
   "metadata": {},
   "outputs": [
    {
     "data": {
      "text/plain": [
       "[[1, 0, 0, 0], [0, 1, 0, 0], [0, 0, 1, 0]]"
      ]
     },
     "execution_count": 17,
     "metadata": {},
     "output_type": "execute_result"
    }
   ],
   "source": [
    "one_hot_encoding(\"dog eats meat\")"
   ]
  },
  {
   "cell_type": "markdown",
   "id": "07556df2",
   "metadata": {},
   "source": [
    "### Sckit Learn"
   ]
  },
  {
   "cell_type": "code",
   "execution_count": 22,
   "id": "70098941",
   "metadata": {},
   "outputs": [
    {
     "name": "stdout",
     "output_type": "stream",
     "text": [
      "['dog', 'bites', 'meat', 'man', 'eats', 'meat', 'dog', 'bites', 'man']\n",
      "[1 0 4 3 2 4 1 0 3]\n"
     ]
    }
   ],
   "source": [
    "from sklearn.preprocessing import LabelEncoder, OneHotEncoder\n",
    "\n",
    "doc1 = \"dog bites meat\"\n",
    "doc2 = 'man eats meat'\n",
    "doc3 = 'dog bites man'\n",
    "\n",
    "text = doc1.split() + doc2.split() + doc3.split()\n",
    "print(text)"
   ]
  },
  {
   "cell_type": "code",
   "execution_count": 23,
   "id": "3ee2fcc8",
   "metadata": {},
   "outputs": [
    {
     "name": "stdout",
     "output_type": "stream",
     "text": [
      "[1 0 4 3 2 4 1 0 3]\n"
     ]
    }
   ],
   "source": [
    "# LabelEncoding\n",
    "le = LabelEncoder()\n",
    "int_data = le.fit_transform(text)\n",
    "print(int_data)"
   ]
  },
  {
   "cell_type": "code",
   "execution_count": 36,
   "id": "cafe4204",
   "metadata": {},
   "outputs": [
    {
     "name": "stdout",
     "output_type": "stream",
     "text": [
      "[[1. 0. 1. 0. 0. 1.]\n",
      " [0. 1. 0. 1. 0. 1.]\n",
      " [1. 0. 1. 0. 1. 0.]]\n"
     ]
    }
   ],
   "source": [
    "# OneHotEncoding\n",
    "corpus = [doc1.split(),doc2.split(),doc3.split()]\n",
    "one_hot = OneHotEncoder()\n",
    "one_hot_data = one_hot.fit_transform(corpus).toarray()\n",
    "print(one_hot_data)"
   ]
  }
 ],
 "metadata": {
  "kernelspec": {
   "display_name": "Python 3 (ipykernel)",
   "language": "python",
   "name": "python3"
  },
  "language_info": {
   "codemirror_mode": {
    "name": "ipython",
    "version": 3
   },
   "file_extension": ".py",
   "mimetype": "text/x-python",
   "name": "python",
   "nbconvert_exporter": "python",
   "pygments_lexer": "ipython3",
   "version": "3.10.9"
  }
 },
 "nbformat": 4,
 "nbformat_minor": 5
}
