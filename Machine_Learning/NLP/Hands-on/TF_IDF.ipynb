{
 "cells": [
  {
   "cell_type": "code",
   "execution_count": 1,
   "id": "4ed51fe2",
   "metadata": {},
   "outputs": [],
   "source": [
    "import pandas as pd\n",
    "import numpy as np\n",
    "import sklearn"
   ]
  },
  {
   "cell_type": "code",
   "execution_count": 2,
   "id": "bf5ef067",
   "metadata": {},
   "outputs": [
    {
     "data": {
      "text/plain": [
       "{'Amazing',\n",
       " 'Data',\n",
       " 'Deep',\n",
       " 'Science',\n",
       " 'a',\n",
       " 'an',\n",
       " 'career',\n",
       " 'current',\n",
       " 'in',\n",
       " 'is',\n",
       " 'learning',\n",
       " 'machine',\n",
       " 'of',\n",
       " 'subset',\n",
       " 'the',\n",
       " 'world'}"
      ]
     },
     "execution_count": 2,
     "metadata": {},
     "output_type": "execute_result"
    }
   ],
   "source": [
    "first_sent = \"Data Science is an Amazing career in the current world\"\n",
    "second_sent = \"Deep learning is a subset of machine learning\"\n",
    "\n",
    "vocab =  set(first_sent.split()+second_sent.split())\n",
    "vocab"
   ]
  },
  {
   "cell_type": "code",
   "execution_count": 3,
   "id": "d36adea9",
   "metadata": {},
   "outputs": [
    {
     "data": {
      "text/plain": [
       "{'is': 0,\n",
       " 'career': 0,\n",
       " 'learning': 0,\n",
       " 'a': 0,\n",
       " 'of': 0,\n",
       " 'machine': 0,\n",
       " 'in': 0,\n",
       " 'Data': 0,\n",
       " 'Amazing': 0,\n",
       " 'Science': 0,\n",
       " 'current': 0,\n",
       " 'Deep': 0,\n",
       " 'subset': 0,\n",
       " 'the': 0,\n",
       " 'an': 0,\n",
       " 'world': 0}"
      ]
     },
     "execution_count": 3,
     "metadata": {},
     "output_type": "execute_result"
    }
   ],
   "source": [
    "worddict1 = dict.fromkeys(vocab,0)\n",
    "worddict2 = dict.fromkeys(vocab,0)\n",
    "worddict1"
   ]
  },
  {
   "cell_type": "code",
   "execution_count": 6,
   "id": "dfcbb2cc",
   "metadata": {},
   "outputs": [],
   "source": [
    "for word in first_sent.split():\n",
    "    worddict1[word] += 1\n",
    "for word in second_sent.split():\n",
    "    worddict2[word] += 1"
   ]
  },
  {
   "cell_type": "code",
   "execution_count": 7,
   "id": "7f2e166f",
   "metadata": {},
   "outputs": [
    {
     "data": {
      "text/html": [
       "<div>\n",
       "<style scoped>\n",
       "    .dataframe tbody tr th:only-of-type {\n",
       "        vertical-align: middle;\n",
       "    }\n",
       "\n",
       "    .dataframe tbody tr th {\n",
       "        vertical-align: top;\n",
       "    }\n",
       "\n",
       "    .dataframe thead th {\n",
       "        text-align: right;\n",
       "    }\n",
       "</style>\n",
       "<table border=\"1\" class=\"dataframe\">\n",
       "  <thead>\n",
       "    <tr style=\"text-align: right;\">\n",
       "      <th></th>\n",
       "      <th>is</th>\n",
       "      <th>career</th>\n",
       "      <th>learning</th>\n",
       "      <th>a</th>\n",
       "      <th>of</th>\n",
       "      <th>machine</th>\n",
       "      <th>in</th>\n",
       "      <th>Data</th>\n",
       "      <th>Amazing</th>\n",
       "      <th>Science</th>\n",
       "      <th>current</th>\n",
       "      <th>Deep</th>\n",
       "      <th>subset</th>\n",
       "      <th>the</th>\n",
       "      <th>an</th>\n",
       "      <th>world</th>\n",
       "    </tr>\n",
       "  </thead>\n",
       "  <tbody>\n",
       "    <tr>\n",
       "      <th>0</th>\n",
       "      <td>1</td>\n",
       "      <td>1</td>\n",
       "      <td>0</td>\n",
       "      <td>0</td>\n",
       "      <td>0</td>\n",
       "      <td>0</td>\n",
       "      <td>1</td>\n",
       "      <td>1</td>\n",
       "      <td>1</td>\n",
       "      <td>1</td>\n",
       "      <td>1</td>\n",
       "      <td>0</td>\n",
       "      <td>0</td>\n",
       "      <td>1</td>\n",
       "      <td>1</td>\n",
       "      <td>1</td>\n",
       "    </tr>\n",
       "    <tr>\n",
       "      <th>1</th>\n",
       "      <td>1</td>\n",
       "      <td>0</td>\n",
       "      <td>2</td>\n",
       "      <td>1</td>\n",
       "      <td>1</td>\n",
       "      <td>1</td>\n",
       "      <td>0</td>\n",
       "      <td>0</td>\n",
       "      <td>0</td>\n",
       "      <td>0</td>\n",
       "      <td>0</td>\n",
       "      <td>1</td>\n",
       "      <td>1</td>\n",
       "      <td>0</td>\n",
       "      <td>0</td>\n",
       "      <td>0</td>\n",
       "    </tr>\n",
       "  </tbody>\n",
       "</table>\n",
       "</div>"
      ],
      "text/plain": [
       "   is  career  learning  a  of  machine  in  Data  Amazing  Science  current  \\\n",
       "0   1       1         0  0   0        0   1     1        1        1        1   \n",
       "1   1       0         2  1   1        1   0     0        0        0        0   \n",
       "\n",
       "   Deep  subset  the  an  world  \n",
       "0     0       0    1   1      1  \n",
       "1     1       1    0   0      0  "
      ]
     },
     "execution_count": 7,
     "metadata": {},
     "output_type": "execute_result"
    }
   ],
   "source": [
    "df = pd.DataFrame([worddict1,worddict2])\n",
    "df"
   ]
  },
  {
   "cell_type": "code",
   "execution_count": 51,
   "id": "273e0b33",
   "metadata": {},
   "outputs": [],
   "source": [
    "def calculateTF(worddict,term):\n",
    "    tf_dict = {}\n",
    "    n = len(term)\n",
    "    for word,count in worddict.items():\n",
    "        tf_dict[word] = count/n\n",
    "    return tf_dict"
   ]
  },
  {
   "cell_type": "code",
   "execution_count": 52,
   "id": "7457d90d",
   "metadata": {},
   "outputs": [],
   "source": [
    "tf1 = calculateTF(worddict1, first_sent.split())\n",
    "tf2 = calculateTF(worddict2, second_sent.split())"
   ]
  },
  {
   "cell_type": "code",
   "execution_count": 55,
   "id": "918a18e7",
   "metadata": {},
   "outputs": [
    {
     "data": {
      "text/plain": [
       "{'is': 0.125,\n",
       " 'career': 0.0,\n",
       " 'learning': 0.25,\n",
       " 'a': 0.125,\n",
       " 'of': 0.125,\n",
       " 'machine': 0.125,\n",
       " 'in': 0.0,\n",
       " 'Data': 0.0,\n",
       " 'Amazing': 0.0,\n",
       " 'Science': 0.0,\n",
       " 'current': 0.0,\n",
       " 'Deep': 0.125,\n",
       " 'subset': 0.125,\n",
       " 'the': 0.0,\n",
       " 'an': 0.0,\n",
       " 'world': 0.0}"
      ]
     },
     "execution_count": 55,
     "metadata": {},
     "output_type": "execute_result"
    }
   ],
   "source": [
    "tf2"
   ]
  },
  {
   "cell_type": "code",
   "execution_count": 56,
   "id": "6515c96b",
   "metadata": {},
   "outputs": [
    {
     "data": {
      "text/html": [
       "<div>\n",
       "<style scoped>\n",
       "    .dataframe tbody tr th:only-of-type {\n",
       "        vertical-align: middle;\n",
       "    }\n",
       "\n",
       "    .dataframe tbody tr th {\n",
       "        vertical-align: top;\n",
       "    }\n",
       "\n",
       "    .dataframe thead th {\n",
       "        text-align: right;\n",
       "    }\n",
       "</style>\n",
       "<table border=\"1\" class=\"dataframe\">\n",
       "  <thead>\n",
       "    <tr style=\"text-align: right;\">\n",
       "      <th></th>\n",
       "      <th>is</th>\n",
       "      <th>career</th>\n",
       "      <th>learning</th>\n",
       "      <th>a</th>\n",
       "      <th>of</th>\n",
       "      <th>machine</th>\n",
       "      <th>in</th>\n",
       "      <th>Data</th>\n",
       "      <th>Amazing</th>\n",
       "      <th>Science</th>\n",
       "      <th>current</th>\n",
       "      <th>Deep</th>\n",
       "      <th>subset</th>\n",
       "      <th>the</th>\n",
       "      <th>an</th>\n",
       "      <th>world</th>\n",
       "    </tr>\n",
       "  </thead>\n",
       "  <tbody>\n",
       "    <tr>\n",
       "      <th>0</th>\n",
       "      <td>0.100</td>\n",
       "      <td>0.1</td>\n",
       "      <td>0.00</td>\n",
       "      <td>0.000</td>\n",
       "      <td>0.000</td>\n",
       "      <td>0.000</td>\n",
       "      <td>0.1</td>\n",
       "      <td>0.1</td>\n",
       "      <td>0.1</td>\n",
       "      <td>0.1</td>\n",
       "      <td>0.1</td>\n",
       "      <td>0.000</td>\n",
       "      <td>0.000</td>\n",
       "      <td>0.1</td>\n",
       "      <td>0.1</td>\n",
       "      <td>0.1</td>\n",
       "    </tr>\n",
       "    <tr>\n",
       "      <th>1</th>\n",
       "      <td>0.125</td>\n",
       "      <td>0.0</td>\n",
       "      <td>0.25</td>\n",
       "      <td>0.125</td>\n",
       "      <td>0.125</td>\n",
       "      <td>0.125</td>\n",
       "      <td>0.0</td>\n",
       "      <td>0.0</td>\n",
       "      <td>0.0</td>\n",
       "      <td>0.0</td>\n",
       "      <td>0.0</td>\n",
       "      <td>0.125</td>\n",
       "      <td>0.125</td>\n",
       "      <td>0.0</td>\n",
       "      <td>0.0</td>\n",
       "      <td>0.0</td>\n",
       "    </tr>\n",
       "  </tbody>\n",
       "</table>\n",
       "</div>"
      ],
      "text/plain": [
       "      is  career  learning      a     of  machine   in  Data  Amazing  \\\n",
       "0  0.100     0.1      0.00  0.000  0.000    0.000  0.1   0.1      0.1   \n",
       "1  0.125     0.0      0.25  0.125  0.125    0.125  0.0   0.0      0.0   \n",
       "\n",
       "   Science  current   Deep  subset  the   an  world  \n",
       "0      0.1      0.1  0.000   0.000  0.1  0.1    0.1  \n",
       "1      0.0      0.0  0.125   0.125  0.0  0.0    0.0  "
      ]
     },
     "execution_count": 56,
     "metadata": {},
     "output_type": "execute_result"
    }
   ],
   "source": [
    "tf = pd.DataFrame([tf1,tf2])\n",
    "tf"
   ]
  },
  {
   "cell_type": "code",
   "execution_count": 17,
   "id": "0983587e",
   "metadata": {},
   "outputs": [
    {
     "name": "stderr",
     "output_type": "stream",
     "text": [
      "[nltk_data] Downloading package stopwords to\n",
      "[nltk_data]     /home/cirrusrays/nltk_data...\n",
      "[nltk_data]   Package stopwords is already up-to-date!\n"
     ]
    }
   ],
   "source": [
    "import nltk\n",
    "from nltk.corpus import stopwords\n",
    "nltk.download('stopwords')\n",
    "f1 = [word for word in worddict1 if word not in stopwords.words('english')]\n",
    "f2 = [word for word in worddict2 if word not in stopwords.words('english')]"
   ]
  },
  {
   "cell_type": "code",
   "execution_count": 18,
   "id": "db9bba1f",
   "metadata": {},
   "outputs": [
    {
     "data": {
      "text/plain": [
       "['career',\n",
       " 'learning',\n",
       " 'machine',\n",
       " 'Data',\n",
       " 'Amazing',\n",
       " 'Science',\n",
       " 'current',\n",
       " 'Deep',\n",
       " 'subset',\n",
       " 'world']"
      ]
     },
     "execution_count": 18,
     "metadata": {},
     "output_type": "execute_result"
    }
   ],
   "source": [
    "f1"
   ]
  },
  {
   "cell_type": "code",
   "execution_count": 66,
   "id": "c041d708",
   "metadata": {},
   "outputs": [],
   "source": [
    "import math\n",
    "def calculate_IDF(doc):\n",
    "    idfDict = {}\n",
    "    n = len(doc)\n",
    "    idfDict = dict.fromkeys(doc[0].keys(), 0)\n",
    "    for word, count in idfDict.items():\n",
    "        idfDict[word] = math.log10(n/(float(count)+1))\n",
    "    return idfDict"
   ]
  },
  {
   "cell_type": "code",
   "execution_count": 67,
   "id": "fbf20006",
   "metadata": {},
   "outputs": [],
   "source": [
    "idfs = calculate_IDF([worddict1, worddict2])"
   ]
  },
  {
   "cell_type": "code",
   "execution_count": 68,
   "id": "d5e08430",
   "metadata": {},
   "outputs": [
    {
     "data": {
      "text/plain": [
       "{'is': 0.3010299956639812,\n",
       " 'career': 0.3010299956639812,\n",
       " 'learning': 0.3010299956639812,\n",
       " 'a': 0.3010299956639812,\n",
       " 'of': 0.3010299956639812,\n",
       " 'machine': 0.3010299956639812,\n",
       " 'in': 0.3010299956639812,\n",
       " 'Data': 0.3010299956639812,\n",
       " 'Amazing': 0.3010299956639812,\n",
       " 'Science': 0.3010299956639812,\n",
       " 'current': 0.3010299956639812,\n",
       " 'Deep': 0.3010299956639812,\n",
       " 'subset': 0.3010299956639812,\n",
       " 'the': 0.3010299956639812,\n",
       " 'an': 0.3010299956639812,\n",
       " 'world': 0.3010299956639812}"
      ]
     },
     "execution_count": 68,
     "metadata": {},
     "output_type": "execute_result"
    }
   ],
   "source": [
    "idfs"
   ]
  },
  {
   "cell_type": "code",
   "execution_count": 69,
   "id": "137bfea4",
   "metadata": {},
   "outputs": [],
   "source": [
    "def compute_TF_IDF(tf,idfs):\n",
    "    tf_idf = {}\n",
    "    for word,val in tf.items():\n",
    "        tf_idf[word] = val*idfs[word]\n",
    "    return tf_idf"
   ]
  },
  {
   "cell_type": "code",
   "execution_count": 70,
   "id": "d279cf51",
   "metadata": {},
   "outputs": [],
   "source": [
    "tf_idf1 = compute_TF_IDF(tf1, idfs)\n",
    "tf_idf2 = compute_TF_IDF(tf2, idfs)"
   ]
  },
  {
   "cell_type": "code",
   "execution_count": 71,
   "id": "d12c7b97",
   "metadata": {},
   "outputs": [
    {
     "data": {
      "text/plain": [
       "{'is': 0.03762874945799765,\n",
       " 'career': 0.0,\n",
       " 'learning': 0.0752574989159953,\n",
       " 'a': 0.03762874945799765,\n",
       " 'of': 0.03762874945799765,\n",
       " 'machine': 0.03762874945799765,\n",
       " 'in': 0.0,\n",
       " 'Data': 0.0,\n",
       " 'Amazing': 0.0,\n",
       " 'Science': 0.0,\n",
       " 'current': 0.0,\n",
       " 'Deep': 0.03762874945799765,\n",
       " 'subset': 0.03762874945799765,\n",
       " 'the': 0.0,\n",
       " 'an': 0.0,\n",
       " 'world': 0.0}"
      ]
     },
     "execution_count": 71,
     "metadata": {},
     "output_type": "execute_result"
    }
   ],
   "source": [
    "tf_idf2"
   ]
  },
  {
   "cell_type": "code",
   "execution_count": 72,
   "id": "d3c5b4d8",
   "metadata": {},
   "outputs": [
    {
     "data": {
      "text/html": [
       "<div>\n",
       "<style scoped>\n",
       "    .dataframe tbody tr th:only-of-type {\n",
       "        vertical-align: middle;\n",
       "    }\n",
       "\n",
       "    .dataframe tbody tr th {\n",
       "        vertical-align: top;\n",
       "    }\n",
       "\n",
       "    .dataframe thead th {\n",
       "        text-align: right;\n",
       "    }\n",
       "</style>\n",
       "<table border=\"1\" class=\"dataframe\">\n",
       "  <thead>\n",
       "    <tr style=\"text-align: right;\">\n",
       "      <th></th>\n",
       "      <th>is</th>\n",
       "      <th>career</th>\n",
       "      <th>learning</th>\n",
       "      <th>a</th>\n",
       "      <th>of</th>\n",
       "      <th>machine</th>\n",
       "      <th>in</th>\n",
       "      <th>Data</th>\n",
       "      <th>Amazing</th>\n",
       "      <th>Science</th>\n",
       "      <th>current</th>\n",
       "      <th>Deep</th>\n",
       "      <th>subset</th>\n",
       "      <th>the</th>\n",
       "      <th>an</th>\n",
       "      <th>world</th>\n",
       "    </tr>\n",
       "  </thead>\n",
       "  <tbody>\n",
       "    <tr>\n",
       "      <th>0</th>\n",
       "      <td>0.030103</td>\n",
       "      <td>0.030103</td>\n",
       "      <td>0.000000</td>\n",
       "      <td>0.000000</td>\n",
       "      <td>0.000000</td>\n",
       "      <td>0.000000</td>\n",
       "      <td>0.030103</td>\n",
       "      <td>0.030103</td>\n",
       "      <td>0.030103</td>\n",
       "      <td>0.030103</td>\n",
       "      <td>0.030103</td>\n",
       "      <td>0.000000</td>\n",
       "      <td>0.000000</td>\n",
       "      <td>0.030103</td>\n",
       "      <td>0.030103</td>\n",
       "      <td>0.030103</td>\n",
       "    </tr>\n",
       "    <tr>\n",
       "      <th>1</th>\n",
       "      <td>0.037629</td>\n",
       "      <td>0.000000</td>\n",
       "      <td>0.075257</td>\n",
       "      <td>0.037629</td>\n",
       "      <td>0.037629</td>\n",
       "      <td>0.037629</td>\n",
       "      <td>0.000000</td>\n",
       "      <td>0.000000</td>\n",
       "      <td>0.000000</td>\n",
       "      <td>0.000000</td>\n",
       "      <td>0.000000</td>\n",
       "      <td>0.037629</td>\n",
       "      <td>0.037629</td>\n",
       "      <td>0.000000</td>\n",
       "      <td>0.000000</td>\n",
       "      <td>0.000000</td>\n",
       "    </tr>\n",
       "  </tbody>\n",
       "</table>\n",
       "</div>"
      ],
      "text/plain": [
       "         is    career  learning         a        of   machine        in  \\\n",
       "0  0.030103  0.030103  0.000000  0.000000  0.000000  0.000000  0.030103   \n",
       "1  0.037629  0.000000  0.075257  0.037629  0.037629  0.037629  0.000000   \n",
       "\n",
       "       Data   Amazing   Science   current      Deep    subset       the  \\\n",
       "0  0.030103  0.030103  0.030103  0.030103  0.000000  0.000000  0.030103   \n",
       "1  0.000000  0.000000  0.000000  0.000000  0.037629  0.037629  0.000000   \n",
       "\n",
       "         an     world  \n",
       "0  0.030103  0.030103  \n",
       "1  0.000000  0.000000  "
      ]
     },
     "execution_count": 72,
     "metadata": {},
     "output_type": "execute_result"
    }
   ],
   "source": [
    "TF_IDF_df = pd.DataFrame([tf_idf1,tf_idf2])\n",
    "TF_IDF_df"
   ]
  },
  {
   "cell_type": "markdown",
   "id": "3bf75aa6",
   "metadata": {},
   "source": [
    "### Sklearn"
   ]
  },
  {
   "cell_type": "code",
   "execution_count": 78,
   "id": "88459883",
   "metadata": {},
   "outputs": [
    {
     "data": {
      "text/plain": [
       "array([[0.32433627, 0.32433627, 0.32433627, 0.32433627, 0.32433627,\n",
       "        0.        , 0.32433627, 0.23076793, 0.        , 0.        ,\n",
       "        0.        , 0.32433627, 0.        , 0.32433627, 0.32433627],\n",
       "       [0.        , 0.        , 0.        , 0.        , 0.        ,\n",
       "        0.34287126, 0.        , 0.24395573, 0.68574252, 0.34287126,\n",
       "        0.34287126, 0.        , 0.34287126, 0.        , 0.        ]])"
      ]
     },
     "execution_count": 78,
     "metadata": {},
     "output_type": "execute_result"
    }
   ],
   "source": [
    "from sklearn.feature_extraction.text import TfidfVectorizer\n",
    "first_sent = \"Data Science is an Amazing career in the current world\"\n",
    "second_sent = \"Deep learning is a subset of machine learning\"\n",
    "tfidf = TfidfVectorizer()\n",
    "res = tfidf.fit_transform([first_sent, second_sent])\n",
    "res.toarray()"
   ]
  },
  {
   "cell_type": "code",
   "execution_count": 80,
   "id": "7b6ae7df",
   "metadata": {},
   "outputs": [
    {
     "data": {
      "text/html": [
       "<div>\n",
       "<style scoped>\n",
       "    .dataframe tbody tr th:only-of-type {\n",
       "        vertical-align: middle;\n",
       "    }\n",
       "\n",
       "    .dataframe tbody tr th {\n",
       "        vertical-align: top;\n",
       "    }\n",
       "\n",
       "    .dataframe thead th {\n",
       "        text-align: right;\n",
       "    }\n",
       "</style>\n",
       "<table border=\"1\" class=\"dataframe\">\n",
       "  <thead>\n",
       "    <tr style=\"text-align: right;\">\n",
       "      <th></th>\n",
       "      <th>amazing</th>\n",
       "      <th>an</th>\n",
       "      <th>career</th>\n",
       "      <th>current</th>\n",
       "      <th>data</th>\n",
       "      <th>deep</th>\n",
       "      <th>in</th>\n",
       "      <th>is</th>\n",
       "      <th>learning</th>\n",
       "      <th>machine</th>\n",
       "      <th>of</th>\n",
       "      <th>science</th>\n",
       "      <th>subset</th>\n",
       "      <th>the</th>\n",
       "      <th>world</th>\n",
       "    </tr>\n",
       "  </thead>\n",
       "  <tbody>\n",
       "    <tr>\n",
       "      <th>0</th>\n",
       "      <td>0.324336</td>\n",
       "      <td>0.324336</td>\n",
       "      <td>0.324336</td>\n",
       "      <td>0.324336</td>\n",
       "      <td>0.324336</td>\n",
       "      <td>0.000000</td>\n",
       "      <td>0.324336</td>\n",
       "      <td>0.230768</td>\n",
       "      <td>0.000000</td>\n",
       "      <td>0.000000</td>\n",
       "      <td>0.000000</td>\n",
       "      <td>0.324336</td>\n",
       "      <td>0.000000</td>\n",
       "      <td>0.324336</td>\n",
       "      <td>0.324336</td>\n",
       "    </tr>\n",
       "    <tr>\n",
       "      <th>1</th>\n",
       "      <td>0.000000</td>\n",
       "      <td>0.000000</td>\n",
       "      <td>0.000000</td>\n",
       "      <td>0.000000</td>\n",
       "      <td>0.000000</td>\n",
       "      <td>0.342871</td>\n",
       "      <td>0.000000</td>\n",
       "      <td>0.243956</td>\n",
       "      <td>0.685743</td>\n",
       "      <td>0.342871</td>\n",
       "      <td>0.342871</td>\n",
       "      <td>0.000000</td>\n",
       "      <td>0.342871</td>\n",
       "      <td>0.000000</td>\n",
       "      <td>0.000000</td>\n",
       "    </tr>\n",
       "  </tbody>\n",
       "</table>\n",
       "</div>"
      ],
      "text/plain": [
       "    amazing        an    career   current      data      deep        in  \\\n",
       "0  0.324336  0.324336  0.324336  0.324336  0.324336  0.000000  0.324336   \n",
       "1  0.000000  0.000000  0.000000  0.000000  0.000000  0.342871  0.000000   \n",
       "\n",
       "         is  learning   machine        of   science    subset       the  \\\n",
       "0  0.230768  0.000000  0.000000  0.000000  0.324336  0.000000  0.324336   \n",
       "1  0.243956  0.685743  0.342871  0.342871  0.000000  0.342871  0.000000   \n",
       "\n",
       "      world  \n",
       "0  0.324336  \n",
       "1  0.000000  "
      ]
     },
     "execution_count": 80,
     "metadata": {},
     "output_type": "execute_result"
    }
   ],
   "source": [
    "df = pd.DataFrame(res.toarray(), columns=tfidf.get_feature_names_out())\n",
    "df"
   ]
  },
  {
   "cell_type": "code",
   "execution_count": null,
   "id": "92cc17b8",
   "metadata": {},
   "outputs": [],
   "source": []
  }
 ],
 "metadata": {
  "kernelspec": {
   "display_name": "Python 3 (ipykernel)",
   "language": "python",
   "name": "python3"
  },
  "language_info": {
   "codemirror_mode": {
    "name": "ipython",
    "version": 3
   },
   "file_extension": ".py",
   "mimetype": "text/x-python",
   "name": "python",
   "nbconvert_exporter": "python",
   "pygments_lexer": "ipython3",
   "version": "3.10.9"
  }
 },
 "nbformat": 4,
 "nbformat_minor": 5
}
