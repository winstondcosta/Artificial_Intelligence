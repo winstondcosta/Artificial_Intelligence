{
 "cells": [
  {
   "cell_type": "code",
   "execution_count": 36,
   "id": "0d4385f7",
   "metadata": {},
   "outputs": [],
   "source": [
    "import pandas as pd\n",
    "import numpy as np\n",
    "import matplotlib.pyplot as plt\n",
    "\n",
    "#variables to store mean and standard deviation for each feature\n",
    "mu = []\n",
    "std = []"
   ]
  },
  {
   "cell_type": "code",
   "execution_count": 37,
   "id": "1e8c9a33",
   "metadata": {},
   "outputs": [],
   "source": [
    "def load_data(filename):\n",
    "    df = pd.read_csv(filename, sep=\",\", index_col=False)\n",
    "    df.columns = [\"housesize\", \"rooms\", \"price\"]\n",
    "    data = np.array(df, dtype=float)\n",
    "    plot_data(data[:,:2], data[:, -1])\n",
    "    normalize(data)\n",
    "    return data[:,:2], data[:, -1]"
   ]
  },
  {
   "cell_type": "code",
   "execution_count": 38,
   "id": "61c1b12a",
   "metadata": {},
   "outputs": [],
   "source": [
    "def normalize(data):\n",
    "    for i in range(0,data.shape[1]-1):\n",
    "        data[:,i] = ((data[:,i] - np.mean(data[:,i]))/np.std(data[:, i]))\n",
    "        mu.append(np.mean(data[:,i]))\n",
    "        std.append(np.std(data[:, i]))"
   ]
  },
  {
   "cell_type": "code",
   "execution_count": 39,
   "id": "13222cf1",
   "metadata": {},
   "outputs": [],
   "source": [
    "def plot_data(x, y):\n",
    "    plt.xlabel('house size')\n",
    "    plt.ylabel('price')\n",
    "    plt.plot(x[:,0], y, 'bo')\n",
    "    plt.show()"
   ]
  },
  {
   "cell_type": "code",
   "execution_count": 40,
   "id": "46176900",
   "metadata": {},
   "outputs": [],
   "source": [
    "def h(x,theta):\n",
    "    return np.matmul(x, theta)"
   ]
  },
  {
   "cell_type": "code",
   "execution_count": 41,
   "id": "ef54c2e5",
   "metadata": {},
   "outputs": [],
   "source": [
    "def cost_function(x, y, theta):\n",
    "    return ((h(x, theta)-y).T@(h(x, theta)-y))/(2*y.shape[0])"
   ]
  },
  {
   "cell_type": "code",
   "execution_count": 42,
   "id": "94384a8f",
   "metadata": {},
   "outputs": [],
   "source": [
    "def gradient_descent(x, y, theta, learning_rate=0.1, num_epochs=10):\n",
    "    m = x.shape[0]\n",
    "    J_all = []\n",
    "    \n",
    "    for _ in range(num_epochs):\n",
    "        h_x = h(x, theta)\n",
    "        cost_ = (1/m)*(x.T@(h_x - y))\n",
    "        theta = theta - (learning_rate)*cost_\n",
    "        J_all.append(cost_function(x, y, theta))\n",
    "\n",
    "    return theta, J_all "
   ]
  },
  {
   "cell_type": "code",
   "execution_count": 43,
   "id": "06ab0ecb",
   "metadata": {},
   "outputs": [],
   "source": [
    "def plot_cost(J_all, num_epochs):\n",
    "    plt.xlabel('Epochs')\n",
    "    plt.ylabel('Cost')\n",
    "    plt.plot(num_epochs, J_all, 'm', linewidth = \"5\")\n",
    "    plt.show()"
   ]
  },
  {
   "cell_type": "code",
   "execution_count": 44,
   "id": "bd2b8479",
   "metadata": {},
   "outputs": [],
   "source": [
    "def test(theta, x):\n",
    "    x[0] = (x[0] - mu[0])/std[0]\n",
    "    x[1] = (x[1] - mu[1])/std[1]\n",
    "\n",
    "    y = theta[0] + theta[1]*x[0] + theta[2]*x[1]\n",
    "    print(\"Price of house: \", y)"
   ]
  },
  {
   "cell_type": "code",
   "execution_count": 45,
   "id": "47c0019e",
   "metadata": {},
   "outputs": [
    {
     "data": {
      "image/png": "[encoded data removed]",
      "text/plain": [
       "<Figure size 432x288 with 1 Axes>"
      ]
     },
     "metadata": {
      "needs_background": "light"
     },
     "output_type": "display_data"
    }
   ],
   "source": [
    "x,y = load_data(\"house_price_data.txt\")"
   ]
  },
  {
   "cell_type": "code",
   "execution_count": 56,
   "id": "688561c6",
   "metadata": {},
   "outputs": [
    {
     "name": "stdout",
     "output_type": "stream",
     "text": [
      "(46, 1)\n"
     ]
    }
   ],
   "source": [
    "y = np.reshape(y, (len(y),1))\n",
    "print(y.shape)"
   ]
  },
  {
   "cell_type": "code",
   "execution_count": 47,
   "id": "488df3b8",
   "metadata": {},
   "outputs": [],
   "source": [
    "x = np.hstack((np.ones((x.shape[0],1)), x))"
   ]
  },
  {
   "cell_type": "code",
   "execution_count": 48,
   "id": "fab4b3dd",
   "metadata": {},
   "outputs": [
    {
     "name": "stdout",
     "output_type": "stream",
     "text": [
      "[[0.]\n",
      " [0.]\n",
      " [0.]]\n"
     ]
    }
   ],
   "source": [
    "theta = np.zeros((x.shape[1], 1))\n",
    "print(theta)"
   ]
  },
  {
   "cell_type": "code",
   "execution_count": 49,
   "id": "f6da1ac0",
   "metadata": {},
   "outputs": [],
   "source": [
    "learning_rate = 0.1\n",
    "num_epochs = 50\n",
    "theta, J_all = gradient_descent(x, y, theta, learning_rate, num_epochs)"
   ]
  },
  {
   "cell_type": "code",
   "execution_count": 50,
   "id": "52922a71",
   "metadata": {},
   "outputs": [
    {
     "name": "stdout",
     "output_type": "stream",
     "text": [
      "Cost:  [[2.08475311e+09]]\n",
      "Parameters:  [[ 3.37371711e+05]\n",
      " [ 1.04066024e+05]\n",
      " [-6.47874139e+01]]\n"
     ]
    }
   ],
   "source": [
    "J = cost_function(x, y, theta)\n",
    "print(\"Cost: \", J)\n",
    "print(\"Parameters: \", theta)"
   ]
  },
  {
   "cell_type": "code",
   "execution_count": 51,
   "id": "f9e8e5db",
   "metadata": {},
   "outputs": [
    {
     "data": {
      "image/png": "[encoded data removed]",
      "text/plain": [
       "<Figure size 432x288 with 1 Axes>"
      ]
     },
     "metadata": {
      "needs_background": "light"
     },
     "output_type": "display_data"
    }
   ],
   "source": [
    "#for testing and plotting cost \n",
    "n_epochs = []\n",
    "jplot = []\n",
    "count = 0\n",
    "for i in J_all:\n",
    "    jplot.append(i[0][0])\n",
    "    n_epochs.append(count)\n",
    "    count += 1\n",
    "jplot = np.array(jplot)\n",
    "n_epochs = np.array(n_epochs)\n",
    "plot_cost(jplot, n_epochs)"
   ]
  },
  {
   "cell_type": "code",
   "execution_count": 52,
   "id": "6d868624",
   "metadata": {},
   "outputs": [
    {
     "name": "stdout",
     "output_type": "stream",
     "text": [
      "Price of house:  [1.66842816e+08]\n"
     ]
    }
   ],
   "source": [
    "test(theta, [1600, 3])"
   ]
  },
  {
   "cell_type": "markdown",
   "id": "d04a80f9",
   "metadata": {},
   "source": [
    "## Practice"
   ]
  },
  {
   "cell_type": "code",
   "execution_count": 98,
   "id": "ebc9c000",
   "metadata": {},
   "outputs": [],
   "source": [
    "mu = []\n",
    "std = []"
   ]
  },
  {
   "cell_type": "code",
   "execution_count": 99,
   "id": "8684c751",
   "metadata": {},
   "outputs": [],
   "source": [
    "def plot_data(x, y):\n",
    "    plt.xlabel(\"house_size\")\n",
    "    plt.ylabel(\"price\")\n",
    "    plt.plot(x,y,'bo')\n",
    "    plt.show()"
   ]
  },
  {
   "cell_type": "code",
   "execution_count": 100,
   "id": "70263e34",
   "metadata": {},
   "outputs": [],
   "source": [
    "def normalize(data):\n",
    "    for i in range(data.shape[1]-1):\n",
    "        data[:,i] = ((data[:, i] - np.mean(data[:,i]))/np.std(data[:,i]))\n",
    "        mu.append(np.mean(data[:,i]))\n",
    "        std.append(np.std(data[:,i]))"
   ]
  },
  {
   "cell_type": "code",
   "execution_count": 101,
   "id": "14841dad",
   "metadata": {},
   "outputs": [],
   "source": [
    "def load_data(filename):\n",
    "    df = pd.read_csv(filename, sep=\",\", index_col=False)\n",
    "    df.columns = [\"house_size\",\"no of bedrooms\", \"price\"]\n",
    "    data = np.array(df, dtype=\"float32\")\n",
    "    #print(data.shape)\n",
    "    plot_data(data[:,0], data[:,-1])\n",
    "    normalize(data)\n",
    "    return data[:,:2], data[:,-1]"
   ]
  },
  {
   "cell_type": "code",
   "execution_count": 102,
   "id": "5caa4714",
   "metadata": {},
   "outputs": [
    {
     "data": {
      "image/png": "[encoded data removed]",
      "text/plain": [
       "<Figure size 432x288 with 1 Axes>"
      ]
     },
     "metadata": {
      "needs_background": "light"
     },
     "output_type": "display_data"
    }
   ],
   "source": [
    "x, y = load_data(\"house_price_data.txt\")"
   ]
  },
  {
   "cell_type": "code",
   "execution_count": 103,
   "id": "871dc680",
   "metadata": {},
   "outputs": [],
   "source": [
    "y = np.reshape(y, (y.shape[0],1))\n",
    "x = np.hstack((np.ones((x.shape[0],1)),x))"
   ]
  },
  {
   "cell_type": "code",
   "execution_count": 107,
   "id": "48d55354",
   "metadata": {},
   "outputs": [
    {
     "name": "stdout",
     "output_type": "stream",
     "text": [
      "[[0.]\n",
      " [0.]\n",
      " [0.]]\n"
     ]
    }
   ],
   "source": [
    "theta = np.zeros((x.shape[1], 1))\n",
    "print(theta)"
   ]
  },
  {
   "cell_type": "code",
   "execution_count": 108,
   "id": "767856ae",
   "metadata": {},
   "outputs": [],
   "source": [
    "def h(x,theta):\n",
    "    return np.matmul(x, theta)"
   ]
  },
  {
   "cell_type": "code",
   "execution_count": null,
   "id": "ce78b5da",
   "metadata": {},
   "outputs": [],
   "source": [
    "def cost_function(x, y, theta):\n",
    "    return ((h(x,theta)-y).T@(h(x,theta)-y))/(2*x.shape[0])"
   ]
  },
  {
   "cell_type": "code",
   "execution_count": 109,
   "id": "8b99bbba",
   "metadata": {},
   "outputs": [],
   "source": [
    "def gradient_descent(x, y, theta, learning_rate, epochs):\n",
    "    J_all = []\n",
    "    m = x.shape[0]\n",
    "    \n",
    "    for _ in range(epochs):\n",
    "        cost = (1/m)*x.T@(h(x,theta)-y)\n",
    "        theta = theta - learning_rate*cost\n",
    "        J_all.append(cost_function(x,y,theta))\n",
    "    return J_all, theta"
   ]
  },
  {
   "cell_type": "code",
   "execution_count": 111,
   "id": "b4cdf4ff",
   "metadata": {},
   "outputs": [
    {
     "name": "stdout",
     "output_type": "stream",
     "text": [
      "Total loss [[2.49482588e+10]]\n",
      "Theta: [[133950.12798292]\n",
      " [ 39826.8900331 ]\n",
      " [ 16828.23728666]]\n"
     ]
    }
   ],
   "source": [
    "learning_rate = 0.01\n",
    "epochs =50\n",
    "J_all, theta = gradient_descent(x, y, theta, learning_rate, epochs)\n",
    "loss = cost_function(x,y,theta)\n",
    "print(\"Total loss\", loss)\n",
    "print(\"Theta:\", theta)"
   ]
  },
  {
   "cell_type": "code",
   "execution_count": null,
   "id": "4ff4f796",
   "metadata": {},
   "outputs": [],
   "source": []
  },
  {
   "cell_type": "code",
   "execution_count": null,
   "id": "035c5e2e",
   "metadata": {},
   "outputs": [],
   "source": []
  },
  {
   "cell_type": "code",
   "execution_count": null,
   "id": "f0aca4ad",
   "metadata": {},
   "outputs": [],
   "source": []
  }
 ],
 "metadata": {
  "kernelspec": {
   "display_name": "Python 3 (ipykernel)",
   "language": "python",
   "name": "python3"
  },
  "language_info": {
   "codemirror_mode": {
    "name": "ipython",
    "version": 3
   },
   "file_extension": ".py",
   "mimetype": "text/x-python",
   "name": "python",
   "nbconvert_exporter": "python",
   "pygments_lexer": "ipython3",
   "version": "3.8.3"
  }
 },
 "nbformat": 4,
 "nbformat_minor": 5
}
